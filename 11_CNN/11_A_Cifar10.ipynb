{
 "cells": [
  {
   "cell_type": "markdown",
   "id": "5caa20ec-f043-4172-a8ac-76fe34882e02",
   "metadata": {},
   "source": [
    "# Konvoluční síť pro klasifikaci obrázků\n",
    "\n",
    "Cílem tohoto cvičení je vytvoření jednoduché konvoluční sítě pro klasifikaci obrázků do 10 tříd."
   ]
  },
  {
   "cell_type": "markdown",
   "id": "88205b74-c5ae-44af-a357-b0da830cd607",
   "metadata": {},
   "source": [
    "## Dataset\n",
    "\n",
    "Jedná se o datovou sadu 50 000 barevných tréninkových obrázků 32x32 a 10 000 testovacích obrázků označených v 10 kategoriích. \n",
    "\n",
    "Další informace naleznete na https://www.cs.toronto.edu/~kriz/cifar.html\n",
    "\n",
    "## Třídy\n",
    "- 0 \tairplane\n",
    "- 1 \tautomobile\n",
    "- 2 \tbird\n",
    "- 3 \tcat\n",
    "- 4 \tdeer\n",
    "- 5 \tdog\n",
    "- 6 \tfrog\n",
    "- 7 \thorse\n",
    "- 8 \tship\n",
    "- 9 \ttruck\n"
   ]
  },
  {
   "cell_type": "markdown",
   "id": "e6352e39-e4ca-42fd-a168-2d6e69f08c0b",
   "metadata": {},
   "source": [
    "# 1. Načtení datasetu"
   ]
  },
  {
   "cell_type": "code",
   "execution_count": 1,
   "id": "31e1643f-5acd-4498-9757-3a10c80ff4dc",
   "metadata": {
    "tags": []
   },
   "outputs": [],
   "source": [
    "%matplotlib inline"
   ]
  },
  {
   "cell_type": "code",
   "execution_count": 2,
   "id": "136df13b-c512-4c7c-9b30-549aadb570dc",
   "metadata": {
    "tags": []
   },
   "outputs": [],
   "source": [
    "import matplotlib.pyplot as plt\n",
    "import seaborn as sns\n",
    "import pandas as pd\n",
    "import numpy as np"
   ]
  },
  {
   "cell_type": "code",
   "execution_count": 3,
   "id": "633d6d14-f78d-498f-af18-ead6bfc7dd63",
   "metadata": {
    "tags": []
   },
   "outputs": [],
   "source": [
    "# Načtení dat pomocí vestavěné funkce\n",
    "from keras.datasets import cifar10\n",
    "(X_train, Y_train), (X_test, Y_test) = cifar10.load_data()"
   ]
  },
  {
   "cell_type": "code",
   "execution_count": 4,
   "id": "6f35eabc-0ddf-4e4f-a71f-c7eb6a9276af",
   "metadata": {
    "tags": []
   },
   "outputs": [],
   "source": [
    "# Nastavení pojmenování tříd podle pořadí\n",
    "class_names=[\"plane\", \"car\", \"bird\", \"cat\", \"deer\", \"dog\", \"frog\", \"horse\", \"ship\", \"truck\"]\n",
    "num_classes = len(class_names)"
   ]
  },
  {
   "cell_type": "markdown",
   "id": "618ebeef-cbcc-454c-bbd9-42778549546b",
   "metadata": {},
   "source": [
    "# 2. Průzkum dat"
   ]
  },
  {
   "cell_type": "code",
   "execution_count": null,
   "id": "b4e20e94-e10c-45fa-8669-1cff6c5b8bb5",
   "metadata": {
    "tags": []
   },
   "outputs": [],
   "source": [
    "# Velikosti numpy polí\n",
    "assert X_train.shape == (50000, 32, 32, 3)\n",
    "assert X_test.shape == (10000, 32, 32, 3)\n",
    "assert Y_train.shape == (50000, 1)\n",
    "assert Y_test.shape == (10000, 1)\n",
    "\n",
    "print('X_train: ' + str(X_train.shape))\n",
    "print('Y_train: ' + str(Y_train.shape))\n",
    "print('X_test:  '  + str(X_test.shape))\n",
    "print('Y_test:  '  + str(Y_test.shape))"
   ]
  },
  {
   "cell_type": "code",
   "execution_count": null,
   "id": "2607bf05-5f84-452d-97f2-f31cad202ad0",
   "metadata": {
    "tags": []
   },
   "outputs": [],
   "source": [
    "# Obrázek 32x32 pixelů\n",
    "# 3 barvy\n",
    "# Hodnoty 0 - 255\n",
    "# Datový typ - uint8\n",
    "X_train[0]"
   ]
  },
  {
   "cell_type": "code",
   "execution_count": null,
   "id": "59e705e1-623d-465d-bf83-f85f7c5ba0e0",
   "metadata": {
    "tags": []
   },
   "outputs": [],
   "source": [
    "# Kontrola výstupních dat\n",
    "print(np.unique(Y_train))\n",
    "print(np.unique(Y_test))"
   ]
  },
  {
   "cell_type": "code",
   "execution_count": null,
   "id": "cdd3a7aa-8d3e-48a7-9aa7-100059f0db98",
   "metadata": {
    "tags": []
   },
   "outputs": [],
   "source": [
    "# Četnost tříd\n",
    "sns.displot(Y_train)"
   ]
  },
  {
   "cell_type": "code",
   "execution_count": null,
   "id": "c7a9bd78-4d22-4e8a-bdd5-a44700c45c42",
   "metadata": {
    "tags": []
   },
   "outputs": [],
   "source": [
    "sns.displot(Y_test)"
   ]
  },
  {
   "cell_type": "markdown",
   "id": "e4f437ea-0545-4eed-9cd0-7d55ddd547f5",
   "metadata": {},
   "source": [
    "# 3. Vizualizace dat"
   ]
  },
  {
   "cell_type": "code",
   "execution_count": 13,
   "id": "f4e4152a-0102-49e1-8344-1d91f72391bc",
   "metadata": {
    "tags": []
   },
   "outputs": [],
   "source": [
    "def show_images (images, labels, rows=6, cols=10):\n",
    "    \"\"\"\n",
    "     Metoda pro zobrazení náhledu obrázků\n",
    "    \"\"\"\n",
    "    fig, axes = plt.subplots(rows, cols, figsize=(cols, rows))\n",
    "    plt.subplots_adjust(bottom=0)\n",
    "    \n",
    "    for idx in range (0, rows * cols):\n",
    "        ridx=idx//cols\n",
    "        cidx=idx % cols        \n",
    "        ax= axes[ridx, cidx]\n",
    "        ax.axis(\"off\")\n",
    "        ax.imshow(images[idx])\n",
    "        label = class_names[labels[idx][0]]\n",
    "        ax.set_title(f\"{label}\")        "
   ]
  },
  {
   "cell_type": "code",
   "execution_count": null,
   "id": "cb4348f6-af90-4b6b-aa5b-ca57c021f7d3",
   "metadata": {
    "tags": []
   },
   "outputs": [],
   "source": [
    "show_images(X_train, Y_train, 3, 10)"
   ]
  },
  {
   "cell_type": "markdown",
   "id": "848435f9-a926-4ef1-a3db-59d999d4fd21",
   "metadata": {},
   "source": [
    "# 4. Příprava dat"
   ]
  },
  {
   "cell_type": "code",
   "execution_count": 15,
   "id": "bc365b96-a80b-4963-842b-842ab7a37411",
   "metadata": {
    "tags": []
   },
   "outputs": [],
   "source": [
    "# Převedení dat z int na float\n",
    "X_train = X_train.astype('float32')\n",
    "X_test = X_test.astype('float32')\n",
    " \n",
    "# Standardizace z rozsahu 0 - 255 na 0 - 1\n",
    "X_train = X_train / 255\n",
    "X_test = X_test / 255"
   ]
  },
  {
   "cell_type": "code",
   "execution_count": null,
   "id": "9e106a69-3ce1-4c55-8b57-c90e14f81971",
   "metadata": {
    "tags": []
   },
   "outputs": [],
   "source": [
    "X_train[0]"
   ]
  },
  {
   "cell_type": "code",
   "execution_count": 17,
   "id": "b3ef99b2-a8aa-4098-8dfa-1d3c6da3a27f",
   "metadata": {
    "tags": []
   },
   "outputs": [],
   "source": [
    "# binární encoding kategorií\n",
    "from keras.utils import to_categorical\n",
    "num_classes = 10\n",
    "Y_train = to_categorical(Y_train, num_classes)\n",
    "Y_test = to_categorical(Y_test, num_classes)"
   ]
  },
  {
   "cell_type": "code",
   "execution_count": null,
   "id": "9a3f9579-980f-410a-8c6e-ba5662e76eb6",
   "metadata": {
    "tags": []
   },
   "outputs": [],
   "source": [
    "Y_train[0]"
   ]
  },
  {
   "cell_type": "markdown",
   "id": "95869e35-91e9-4173-b76d-76d2d38034e8",
   "metadata": {},
   "source": [
    "# 5. Neuronová síť"
   ]
  },
  {
   "cell_type": "code",
   "execution_count": 19,
   "id": "4b523951-5dcb-4f9a-acca-360adcaebf8d",
   "metadata": {
    "tags": []
   },
   "outputs": [],
   "source": [
    "import keras\n",
    "from keras.models import Sequential\n",
    "from keras.layers import Dense, Dropout, Conv2D, MaxPooling2D, Flatten"
   ]
  },
  {
   "cell_type": "code",
   "execution_count": 20,
   "id": "cf4961cc-bfd6-416e-b435-99761867e851",
   "metadata": {
    "tags": []
   },
   "outputs": [],
   "source": [
    "model = Sequential()\n",
    "\n",
    "# input_shape - Vstupní rozměry - 32 x 32 x 3\n",
    "# filters     - 32 konvolučních filtrů\n",
    "# kernel_size - velikost konvolučních filtrů 3 x 3\n",
    "# padding     - zarovnání same vede k rovnoměrnému vyplňování vlevo/vpravo nebo nahoru/dolů od vstupu\n",
    "# activation  - aktivační funkce ReLU\n",
    "model.add(Conv2D(filters=32, kernel_size=(3,3), padding='same', activation='relu', input_shape=(32,32,3)))\n",
    "model.add(Conv2D(32, (3,3), padding='same', activation='relu'))\n",
    "\n",
    "# Maxpooling, velikost pool je 2 x 2\n",
    "model.add(MaxPooling2D(pool_size=(2,2)))\n",
    "\n",
    "# Vrstva Dropout náhodně nastavuje vstupní neurony na 0, což pomáhá zabránit nadměrnému přizpůsobení sítě trénovacím datům\n",
    "# Vstupy, které nejsou nastaveny na 0, se škálují o 1 / (1 - rate) tak, aby se součet všech vstupů nezměnil.\n",
    "model.add(Dropout(0.3))\n",
    "\n",
    "# Druhy blok konvolučních vrstev\n",
    "model.add(Conv2D(64, (3,3), padding='same', activation='relu'))\n",
    "model.add(Conv2D(64, (3,3), padding='same', activation='relu'))\n",
    "model.add(MaxPooling2D(pool_size=(2,2)))\n",
    "model.add(Dropout(0.5))\n",
    "\n",
    "# Třetí blok konvolučních vrstev\n",
    "model.add(Conv2D(128, (3,3), padding='same', activation='relu'))\n",
    "model.add(Conv2D(128, (3,3), padding='same', activation='relu'))\n",
    "model.add(MaxPooling2D(pool_size=(2,2)))\n",
    "model.add(Dropout(0.5))\n",
    "\n",
    "# Převedení více rozměrné mapy příznaků na 1 rozměrový vektor\n",
    "model.add(Flatten())\n",
    "\n",
    "# Klasifikační část s plně propojenými vrstvami s aktivačními funkce relu a softmax\n",
    "model.add(Dense(128, activation='relu'))\n",
    "model.add(Dropout(0.5))\n",
    "model.add(Dense(num_classes, activation='softmax'))    # num_classes = 10"
   ]
  },
  {
   "cell_type": "code",
   "execution_count": null,
   "id": "7a20ff54-d964-4c4c-a7b4-ade355afa6f2",
   "metadata": {
    "tags": []
   },
   "outputs": [],
   "source": [
    "model.summary()"
   ]
  },
  {
   "cell_type": "code",
   "execution_count": 22,
   "id": "73ced601-6233-4919-8326-f30189ea7a72",
   "metadata": {
    "tags": []
   },
   "outputs": [],
   "source": [
    "from keras_visualizer import visualizer \n",
    "visualizer(model, file_format='png', view=True)"
   ]
  },
  {
   "cell_type": "code",
   "execution_count": 23,
   "id": "ad37c41e-b5e2-404f-bb47-3106e036bf0f",
   "metadata": {
    "tags": []
   },
   "outputs": [],
   "source": [
    "model.compile(optimizer='adam', loss=\"categorical_crossentropy\", metrics=['accuracy'])"
   ]
  },
  {
   "cell_type": "markdown",
   "id": "d125bd4a-c661-47e0-a729-72a076a686c6",
   "metadata": {},
   "source": [
    "# 6. Učení"
   ]
  },
  {
   "cell_type": "code",
   "execution_count": 24,
   "id": "0345bf0d-25e7-4e0d-8e7a-eb222bda252c",
   "metadata": {
    "tags": []
   },
   "outputs": [],
   "source": [
    "# zastavení učení, když se val_loss nebude příliš měnit\n",
    "early_stop = keras.callbacks.EarlyStopping(monitor='accuracy', patience=30)"
   ]
  },
  {
   "cell_type": "code",
   "execution_count": null,
   "id": "e47e3f75-fbb7-4ef1-b168-2d35c0f4bec3",
   "metadata": {
    "tags": []
   },
   "outputs": [],
   "source": [
    "# trénování modelu\n",
    "history = model.fit(X_train, Y_train, batch_size=64, epochs=100, callbacks=[early_stop])"
   ]
  },
  {
   "cell_type": "code",
   "execution_count": 26,
   "id": "8d1f94d1-9067-41f0-bb16-100ef6c5de5e",
   "metadata": {
    "tags": []
   },
   "outputs": [],
   "source": [
    "# Uložení modelu\n",
    "model.save('classification_model_cifar10')"
   ]
  },
  {
   "cell_type": "markdown",
   "id": "7fa494a1-0e36-41dc-aa95-dd67eeb8b7bb",
   "metadata": {},
   "source": [
    "# 7. Historie učení"
   ]
  },
  {
   "cell_type": "code",
   "execution_count": null,
   "id": "b8f9dd76-6ac4-4b0c-9413-62c9214bde57",
   "metadata": {
    "tags": []
   },
   "outputs": [],
   "source": [
    "plt.plot(history.history['loss'], label='Train Loss')\n",
    "plt.plot(history.history['accuracy'], label='Train Accuracy')\n",
    "plt.legend(loc=\"right\")\n",
    "plt.title('Loss, accuracy')\n",
    "plt.ylabel('Loss, accuracy')\n",
    "plt.xlabel('Počet epoch')\n",
    "plt.show()"
   ]
  },
  {
   "cell_type": "markdown",
   "id": "8f9dec20-7da7-482b-9346-e04f5ff7f6f7",
   "metadata": {},
   "source": [
    "# 8. Ověření modelu"
   ]
  },
  {
   "cell_type": "code",
   "execution_count": 28,
   "id": "8919b464-9563-4364-bef0-c214cb5f96b3",
   "metadata": {
    "tags": []
   },
   "outputs": [],
   "source": [
    "model = keras.models.load_model('classification_model_cifar10')"
   ]
  },
  {
   "cell_type": "code",
   "execution_count": null,
   "id": "67b2e7b3-da8e-4986-8b6e-825d77a5bce2",
   "metadata": {
    "tags": []
   },
   "outputs": [],
   "source": [
    "Y_pred = model.predict(X_test)"
   ]
  },
  {
   "cell_type": "code",
   "execution_count": null,
   "id": "0af29a88-ad7f-4eb0-bb9c-af4afd65d9f3",
   "metadata": {
    "tags": []
   },
   "outputs": [],
   "source": [
    "Y_pred[0]"
   ]
  },
  {
   "cell_type": "code",
   "execution_count": null,
   "id": "4211165d-1172-4837-b266-d92ee64952cb",
   "metadata": {
    "tags": []
   },
   "outputs": [],
   "source": [
    "Y_test[0]"
   ]
  },
  {
   "cell_type": "code",
   "execution_count": null,
   "id": "96b0c48a-53ab-439f-aec6-1099e9f03354",
   "metadata": {
    "tags": []
   },
   "outputs": [],
   "source": [
    "# Výběr třídy podle nejvýšší pravděpodobnosti\n",
    "Y_pred_best_answer = np.argmax(Y_pred, axis=-1)\n",
    "Y_pred_best_answer"
   ]
  },
  {
   "cell_type": "code",
   "execution_count": null,
   "id": "d58c88d0-103c-4e52-93de-3c31fcc4a9c6",
   "metadata": {
    "tags": []
   },
   "outputs": [],
   "source": [
    "# totéž provedeme s testovacími odpovědmi (realita)\n",
    "# ideálně se obě pole rovnají\n",
    "Y_test_best_answer=np.argmax(Y_test, axis=-1)\n",
    "Y_test_best_answer"
   ]
  },
  {
   "cell_type": "code",
   "execution_count": null,
   "id": "14a584bf-fedb-47c0-8b3e-a70485cb4b52",
   "metadata": {
    "tags": []
   },
   "outputs": [],
   "source": [
    "# Vykreslení confusion matrix\n",
    "from sklearn.metrics import confusion_matrix, accuracy_score\n",
    "cf_matrix=confusion_matrix(Y_test_best_answer, Y_pred_best_answer)\n",
    "sns.heatmap(cf_matrix, annot=True)"
   ]
  },
  {
   "cell_type": "code",
   "execution_count": null,
   "id": "4532d725-b52a-42aa-b558-34509cb1d094",
   "metadata": {
    "tags": []
   },
   "outputs": [],
   "source": [
    "# R2 skóre pro nejlepší odpovědi\n",
    "from sklearn.metrics import r2_score\n",
    "r2 = r2_score(Y_test_best_answer, Y_pred_best_answer)\n",
    "print('R2 score: {}'.format(r2))"
   ]
  },
  {
   "cell_type": "code",
   "execution_count": null,
   "id": "4395e535-fcdb-4dfc-b369-b9757aef57f4",
   "metadata": {
    "tags": []
   },
   "outputs": [],
   "source": [
    "# Ztrátová funkce a přesnost modelu\n",
    "scores = model.evaluate(X_test, Y_test, verbose=0)\n",
    "print (f\"Loss function: {scores[0]}\")\n",
    "print (f\"Accuracy: {scores[1]}\")"
   ]
  },
  {
   "cell_type": "code",
   "execution_count": null,
   "id": "5778646f-e550-4728-9b36-38831cc9c630",
   "metadata": {
    "tags": []
   },
   "outputs": [],
   "source": [
    "# Zobrazení přesnosti pro jednotlivé třídy\n",
    "class_correct, class_count = [0]*10, [0]*10\n",
    "\n",
    "for i in range(Y_test.shape[0]):    \n",
    "    if (Y_test_best_answer[i] == Y_pred_best_answer[i]):\n",
    "        class_correct[Y_test_best_answer[i]] +=1\n",
    "    class_count[Y_test_best_answer[i]] += 1\n",
    "    \n",
    "for i in range(10):\n",
    "    print (f\"Přesnost pro {class_names[i]}: {class_correct[i]/class_count[i]:.2%}\") "
   ]
  },
  {
   "cell_type": "code",
   "execution_count": 38,
   "id": "8eed22e5-ed85-4c49-991f-42676d8825d2",
   "metadata": {
    "tags": []
   },
   "outputs": [],
   "source": [
    "def show_wrong_predictions(X_test, Y_test, Y_pred, rows=5, cols=5):    \n",
    "    \"\"\" Zobrazení špatných odpovědí \"\"\"\n",
    "    idx = 0\n",
    "    max_examples = rows * cols\n",
    "    fig, axes = plt.subplots(rows, cols, figsize=(cols, rows), constrained_layout=True)    \n",
    "    for i in range(Y_test.shape[0]):    \n",
    "        if (Y_test[i] != Y_pred[i]):                                    \n",
    "            ridx=idx // cols\n",
    "            cidx=idx % cols            \n",
    "            ax = axes[ridx, cidx]\n",
    "            ax.axis(\"off\")\n",
    "            ax.imshow(X_test[i].reshape(32,32,3), cmap=\"gray_r\")\n",
    "            ax.set_title(f\"{class_names[Y_test[i]]} != {class_names[Y_pred[i]]}\")\n",
    "            idx +=1\n",
    "            if (idx == max_examples):\n",
    "                break"
   ]
  },
  {
   "cell_type": "code",
   "execution_count": null,
   "id": "f11b52b5-437f-404e-be13-2422f14cb2cf",
   "metadata": {
    "tags": []
   },
   "outputs": [],
   "source": [
    "# zobrazení špatných předpovědí\n",
    "show_wrong_predictions(X_test, Y_test_best_answer, Y_pred_best_answer, 2, 10)"
   ]
  }
 ],
 "metadata": {
  "kernelspec": {
   "display_name": "AI",
   "language": "python",
   "name": "python3"
  },
  "language_info": {
   "codemirror_mode": {
    "name": "ipython",
    "version": 3
   },
   "file_extension": ".py",
   "mimetype": "text/x-python",
   "name": "python",
   "nbconvert_exporter": "python",
   "pygments_lexer": "ipython3",
   "version": "3.8.10"
  }
 },
 "nbformat": 4,
 "nbformat_minor": 5
}
