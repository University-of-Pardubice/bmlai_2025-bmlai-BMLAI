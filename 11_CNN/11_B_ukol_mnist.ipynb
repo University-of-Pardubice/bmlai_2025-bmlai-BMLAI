{
 "cells": [
  {
   "cell_type": "markdown",
   "metadata": {},
   "source": [
    "# Úkol\n",
    "\n",
    "Vytvořte konvoluční neuronovou síť, která bude zpracovávat MNIST dataset.\n",
    "\n",
    "Porovnejte ji s neuronovou sítí s plně propojeným vrstvami."
   ]
  },
  {
   "cell_type": "code",
   "execution_count": null,
   "metadata": {
    "tags": []
   },
   "outputs": [],
   "source": [
    "%matplotlib inline"
   ]
  },
  {
   "cell_type": "code",
   "execution_count": null,
   "metadata": {
    "tags": []
   },
   "outputs": [],
   "source": [
    "import numpy as np\n",
    "import matplotlib.pyplot as plt\n",
    "import seaborn as sns"
   ]
  },
  {
   "cell_type": "markdown",
   "metadata": {},
   "source": [
    "# 1. Načtení a zobrazení dat"
   ]
  },
  {
   "cell_type": "code",
   "execution_count": null,
   "metadata": {
    "tags": []
   },
   "outputs": [],
   "source": [
    "from keras.datasets import mnist\n",
    "(X_train, Y_train), (X_test, Y_test) = mnist.load_data()"
   ]
  },
  {
   "cell_type": "code",
   "execution_count": null,
   "metadata": {
    "tags": []
   },
   "outputs": [],
   "source": [
    "# Hodnoty jsou odstíny šedi 0 - 255\n",
    "# 0 je cerna, 255 je bila\n",
    "img = X_train[0]\n",
    "print (f\"min:{np.amin(X_train[0])} max:{np.amax(X_train[0])}\")"
   ]
  },
  {
   "cell_type": "code",
   "execution_count": null,
   "metadata": {
    "tags": []
   },
   "outputs": [],
   "source": [
    "# funkce pro zobrazení n prvních čísel včetně jejich popisků\n",
    "def show_images (images, labels, rows=6, cols=10):\n",
    "    fig, axes = plt.subplots(rows, cols, figsize=(cols, rows))\n",
    "    for idx in range (0, rows * cols):\n",
    "        ridx=idx // cols\n",
    "        cidx=idx % cols\n",
    "        ax= axes[ridx, cidx]\n",
    "        ax.axis(\"off\")\n",
    "        ax.imshow(images[idx], cmap=\"gray_r\")\n",
    "        ax.set_title(f\"{labels[idx]}\")\n",
    "    plt.show()    "
   ]
  },
  {
   "cell_type": "code",
   "execution_count": null,
   "metadata": {
    "tags": []
   },
   "outputs": [],
   "source": [
    "show_images(X_train, Y_train, 2, 10)"
   ]
  },
  {
   "cell_type": "markdown",
   "metadata": {},
   "source": [
    "# 2. Příprava dat"
   ]
  },
  {
   "cell_type": "markdown",
   "metadata": {},
   "source": [
    "Standardizace hodnot z rozsahu 0 - 255 na rozsah 0 - 1"
   ]
  },
  {
   "cell_type": "code",
   "execution_count": null,
   "metadata": {
    "tags": []
   },
   "outputs": [],
   "source": [
    "# Vstupem do neuronové sítě je vektor. \n",
    "# Změníme tvar pole jedné číslice z 28x28 na 784x1\n",
    "X_train = X_train.astype(\"float32\")/255\n",
    "X_test = X_test.astype(\"float32\")/255"
   ]
  },
  {
   "cell_type": "code",
   "execution_count": null,
   "metadata": {
    "tags": []
   },
   "outputs": [],
   "source": [
    "# pro neuronovou síť potřebujeme upravit i výsledky pomocí binárního encodování\n",
    "# tentokát použijeme vestavěnou funkci ve frameworku keras\n",
    "from keras.utils import to_categorical \n",
    "Y_train = to_categorical(Y_train, num_classes=10)\n",
    "Y_test = to_categorical(Y_test, num_classes=10)"
   ]
  },
  {
   "cell_type": "markdown",
   "metadata": {},
   "source": [
    "# 3. Neuronová síť"
   ]
  },
  {
   "cell_type": "code",
   "execution_count": null,
   "metadata": {
    "tags": []
   },
   "outputs": [],
   "source": [
    "import keras\n",
    "from keras.layers import Dense, Activation, Dropout, Conv2D, MaxPooling2D, Flatten\n",
    "from keras.models import Sequential"
   ]
  },
  {
   "cell_type": "code",
   "execution_count": null,
   "metadata": {},
   "outputs": [],
   "source": [
    "# Vytvoření a naučení modelu"
   ]
  },
  {
   "cell_type": "code",
   "execution_count": null,
   "metadata": {
    "tags": []
   },
   "outputs": [],
   "source": [
    "model.save('classification_model_mnist')"
   ]
  },
  {
   "cell_type": "markdown",
   "metadata": {},
   "source": [
    "# 4. Historie učení modelu\n",
    "- Zobrazte učební křivku\n",
    "- Zobrazte křivku přesnosti modelu\n",
    "- Popište tvary"
   ]
  },
  {
   "cell_type": "markdown",
   "metadata": {},
   "source": [
    "# 5. Ověření modelu\n",
    "- R2 skóre\n",
    "- Přesnost modelu jako celku\n",
    "- Přesnost přes třídy\n",
    "- Matice změn\n",
    "- Příklady špatné klasifikace"
   ]
  },
  {
   "cell_type": "markdown",
   "metadata": {},
   "source": [
    "# 6. Porovnání modelu\n",
    "- Který model je přesnější\n",
    "- Jak je to s délkou učení\n",
    "- Jak je to s délkou inference"
   ]
  },
  {
   "cell_type": "code",
   "execution_count": null,
   "metadata": {},
   "outputs": [],
   "source": []
  }
 ],
 "metadata": {
  "kernelspec": {
   "display_name": "Python 3 (ipykernel)",
   "language": "python",
   "name": "python3"
  },
  "language_info": {
   "codemirror_mode": {
    "name": "ipython",
    "version": 3
   },
   "file_extension": ".py",
   "mimetype": "text/x-python",
   "name": "python",
   "nbconvert_exporter": "python",
   "pygments_lexer": "ipython3",
   "version": "3.8.10"
  }
 },
 "nbformat": 4,
 "nbformat_minor": 4
}
