{
 "cells": [
  {
   "cell_type": "markdown",
   "id": "be1f8bb6-b66e-4c63-a495-590e1848865d",
   "metadata": {},
   "source": [
    "# Převozník, koza, zelí a vlk\n",
    "Převozník má  převézt v loďce kozu, vlka a zelí. Loďka je malá, takže se do ní vejde kromě převozníka už jen jedno zvíře, nebo nůše se zelím. Může tedy převážet buď jen kozu, nebo jen vlka, nebo jen zelí. Může také jet v loďce sám. \n",
    "\n",
    "Na jednom břehu nesmí nechat bez dozoru vlka a kozu (vlk by sežral kozu) ani kozu a zelí (koza by sežrala zelí). \n",
    "\n",
    "Bez obav může nechat na břehu vlka a zelí, protože vlk zelí nerad."
   ]
  },
  {
   "attachments": {
    "17714815-27ab-4d4b-9a1f-5f8f7e9b7de3.png": {
     "image/png": "[encoded data removed]"
    }
   },
   "cell_type": "markdown",
   "id": "c14da908-5633-48ab-8c0b-427002cdbc8b",
   "metadata": {},
   "source": [
    "![prevoznik-c.png](attachment:17714815-27ab-4d4b-9a1f-5f8f7e9b7de3.png)\n"
   ]
  },
  {
   "cell_type": "markdown",
   "id": "f62a40db-7ad3-432c-8c3e-71f233894889",
   "metadata": {},
   "source": [
    "# Úkol\n",
    "\n",
    "Vyřešte tuto logickou úlohu pomocí prohledávání do šířky a do hloubky.\n",
    "\n",
    "Kolik je potřeba minimálně plaveb přes řeku?\n",
    "\n",
    "- V minulém cvičení jste měli navrhnout třídu State pro zachycení stavu logické úlohy\n",
    "- Nyní implementujte třídy Node a Problem. Inspiraci můžete vzít v jednoduchém algoritmu.\n",
    "- Implementujte probledávání do hloubky s omezením (DLS)"
   ]
  },
  {
   "cell_type": "code",
   "execution_count": null,
   "id": "80a8cfbb",
   "metadata": {},
   "outputs": [],
   "source": [
    "import copy"
   ]
  },
  {
   "cell_type": "code",
   "execution_count": 1,
   "id": "a573825a",
   "metadata": {},
   "outputs": [],
   "source": [
    "class State:\n",
    "    \"\"\" \n",
    "    \n",
    "    \"\"\"\n",
    "\n",
    "    generated = 0\n",
    "    \n",
    "    def __init__(self, left, right):                               \n",
    "        # todo\n",
    "        pass\n",
    "        \n",
    "    def expand(self, action):\n",
    "        # todo\n",
    "        pass               \n",
    "        \n",
    "\n",
    "    def __eq__(self, other):  \n",
    "        # todo       \n",
    "        pass"
   ]
  },
  {
   "cell_type": "code",
   "execution_count": 2,
   "id": "17c19e50",
   "metadata": {},
   "outputs": [],
   "source": [
    "# Třída node představuje uzel ve stromě nebo grafu\n",
    "class Node:\n",
    "    \"\"\"\n",
    "        Node pro prohledávání\n",
    "        \n",
    "        parent - odkaz na rodičovský uzel\n",
    "        state  - objekt State - korenkrétní stav bludiště\n",
    "        action - akce, která vedla na tento uzel\n",
    "        depth  - hloubka stromu\n",
    "    \"\"\"\n",
    "\n",
    "    def __init__(self, parent=None, state=None, action=None, depth=0):\n",
    "        # Konstruktor\n",
    "        self.parent = parent\n",
    "        self.state = state\n",
    "        self.action = action\n",
    "        self.depth = depth\n",
    "\n",
    "    def __eq__(self, other):\n",
    "        # přetížení porovnání pouze na porovnání stavu bludiště state\n",
    "        # porovnání dalších vlastností by bylo špatné\n",
    "        return self.state == other.state\n",
    "    \n",
    "    def succesors(self, actions):\n",
    "        # metoda vrátí list následovníků, pro všechny povolené akce\n",
    "        succesors = []\n",
    "\n",
    "        # expanduj všechny možné akce. Pokud vznikne povolený stav (není None), zařaď ho do seznamu\n",
    "        for action in actions:\n",
    "            new_state = self.state.expand(action)\n",
    "            if new_state is not None:\n",
    "                # vytvoření nové nodu\n",
    "                succesors.append(Node(parent=self,\n",
    "                                      state=new_state,\n",
    "                                      action=action,\n",
    "                                      depth=self.depth + 1))\n",
    "        return succesors\n",
    "\n",
    "    def path(self):\n",
    "        # metoda vrátí seznam akcí, kterými se od kořene dostaneme k nodu\n",
    "        actions = []\n",
    "        node=self\n",
    "        while node.action is not None:\n",
    "            actions.append(node.action)\n",
    "            node = node.parent\n",
    "        # obrácení cesty\n",
    "        actions.reverse()\n",
    "        return actions"
   ]
  },
  {
   "cell_type": "code",
   "execution_count": 3,
   "id": "c5bff64f",
   "metadata": {},
   "outputs": [],
   "source": [
    "class Problem:\n",
    "    \"\"\"\n",
    "        Hlavní třída\n",
    "        \n",
    "        fringe   - list nodů k prohledání, na začátku se naplní počátečním stavem\n",
    "        goal     - cílový stav (předpokládáme, že je jeden)\n",
    "        actions  - seznam možných akcí        \n",
    "    \"\"\"\n",
    "\n",
    "    def __init__(self, initial_state, goal, actions):\n",
    "        # počáteční stav jde do seznamu k prohledání\n",
    "        self.fringe = []\n",
    "        self.fringe.append(Node(parent=None, state=initial_state, action=None, depth=0))\n",
    "        self.goal = goal\n",
    "        self.actions = actions        \n",
    "\n",
    "    def goal_test(self, state):\n",
    "        # metoda otestuje, zda jsme dosáhli cíle\n",
    "        if self.goal == state:\n",
    "            return True\n",
    "        else:\n",
    "            return False\n",
    "\n",
    "    def select_from(self, fringe, strategy, max_depth=5):\n",
    "        if strategy==\"BFS\":\n",
    "            return fringe.pop(0)\n",
    "        elif strategy==\"DFS\":\n",
    "            return fringe.pop(-1)\n",
    "        elif strategy==\"DLS\":            \n",
    "            # todo\n",
    "            pass\n",
    "        else:\n",
    "            return fringe.pop(0)\n",
    "            \n",
    "\n",
    "    def tree_search(self, strategy, max_depth=5):\n",
    "        # prohledání stromovým algoritmem, který nekontroluje již navštívené vrcholy\n",
    "        while True:\n",
    "            # kontrola délky seznam k prohledání\n",
    "            if len(self.fringe) == 0:\n",
    "                return None\n",
    "                        \n",
    "            # vyběr nodu k další expanzi \n",
    "            node = self.select_from(self.fringe, strategy, max_depth)\n",
    "            \n",
    "            # kontrola, zda to není cíl\n",
    "            if self.goal_test(node.state):\n",
    "                return node\n",
    "            \n",
    "            # rozšíření seznamu k prohledání\n",
    "            self.fringe.extend(node.succesors(self.actions))\n",
    "\n",
    "    def graph_search(self, strategy, max_depth=5):\n",
    "        # prohledání grafovým algoritmem, který kontroluje již navštívené vrcholy\n",
    "        \n",
    "        explored = []\n",
    "        while True:\n",
    "            # kontrola délky seznam k prohledání\n",
    "            if len(self.fringe) == 0:\n",
    "                return None\n",
    "            \n",
    "            # vyběr nodu k další expanzi \n",
    "            node = self.select_from(self.fringe, strategy, max_depth)\n",
    "            \n",
    "            # kontrola, zda to není cíl\n",
    "            if self.goal_test(node.state):\n",
    "                return node\n",
    "            \n",
    "            # přidání nodu do seznamu prohledaných nodů\n",
    "            explored.append(node)\n",
    "            \n",
    "            # expanze nodu\n",
    "            succesors = node.succesors(self.actions)\n",
    "\n",
    "            # do seznamu nodů k prohledání se dostanou pouze nody, které se ještě neprocházely, nebo nejsou ve fridge\n",
    "            for succesor in succesors:\n",
    "                if (succesor not in explored) and (succesor not in self.fringe):\n",
    "                    self.fringe.append(succesor)"
   ]
  },
  {
   "cell_type": "markdown",
   "id": "629b078d",
   "metadata": {},
   "source": [
    "# Prohledávání do šířky"
   ]
  },
  {
   "cell_type": "code",
   "execution_count": 4,
   "id": "29eeed41",
   "metadata": {},
   "outputs": [],
   "source": [
    "problem = Problem(initial_state=State({'P', 'K', 'Z', 'V'}, set()),\n",
    "                goal=State(set(), {'P', 'K', 'Z', 'V'}),\n",
    "                actions=['P', 'PK', 'PV', 'PZ'],\n",
    "                )\n",
    "State.generated = 0\n",
    "solution = problem.graph_search(strategy='BFS')\n",
    "print (f\"Počet prohledaných stavů {State.generated}\")\n",
    "if solution is not None:\n",
    "    print (solution.path())\n",
    "else:\n",
    "    print (\"Problém nemá řešení.\")"
   ]
  },
  {
   "cell_type": "markdown",
   "id": "53948ddb",
   "metadata": {},
   "source": [
    "# Prohledávání do hloubky"
   ]
  },
  {
   "cell_type": "code",
   "execution_count": null,
   "id": "ccba60ba",
   "metadata": {},
   "outputs": [],
   "source": [
    "problem = Problem(initial_state=State({'P', 'K', 'Z', 'V'}, set()),\n",
    "                goal=State(set(), {'P', 'K', 'Z', 'V'}),\n",
    "                actions=['P', 'PK', 'PV', 'PZ'],\n",
    "                )\n",
    "State.generated = 0\n",
    "solution = problem.graph_search(strategy='DFS', max_depth=25)\n",
    "print (f\"Počet prohledaných stavů {State.generated}\")\n",
    "\n",
    "if solution is not None:\n",
    "    print (solution.path())\n",
    "else:\n",
    "    print (\"Problém nemá řešení.\")"
   ]
  },
  {
   "cell_type": "markdown",
   "id": "cb863390",
   "metadata": {},
   "source": [
    "# Prohledávání do hloubky s omezením"
   ]
  },
  {
   "cell_type": "code",
   "execution_count": null,
   "id": "1713a4b9",
   "metadata": {},
   "outputs": [],
   "source": [
    "problem = Problem(initial_state=State({'P', 'K', 'Z', 'V'}, set()),\n",
    "                goal=State(set(), {'P', 'K', 'Z', 'V'}),\n",
    "                actions=['P', 'PK', 'PV', 'PZ'],\n",
    "                )\n",
    "State.generated = 0\n",
    "solution = problem.graph_search(strategy='DLS', max_depth=3)\n",
    "print (f\"Počet prohledaných stavů {State.generated}\")\n",
    "\n",
    "if solution is not None:\n",
    "    print (solution.path())\n",
    "else:\n",
    "    print (\"Problém nemá řešení.\")"
   ]
  }
 ],
 "metadata": {
  "kernelspec": {
   "display_name": "AI",
   "language": "python",
   "name": "python3"
  },
  "language_info": {
   "codemirror_mode": {
    "name": "ipython",
    "version": 3
   },
   "file_extension": ".py",
   "mimetype": "text/x-python",
   "name": "python",
   "nbconvert_exporter": "python",
   "pygments_lexer": "ipython3",
   "version": "3.8.10"
  }
 },
 "nbformat": 4,
 "nbformat_minor": 5
}
