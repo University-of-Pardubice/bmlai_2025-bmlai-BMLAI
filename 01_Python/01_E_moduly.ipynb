{
 "cells": [
  {
   "cell_type": "markdown",
   "id": "48b60bad-9889-43a9-be52-974cbfc5b147",
   "metadata": {},
   "source": [
    "# Module, package, library"
   ]
  },
  {
   "cell_type": "markdown",
   "id": "46a0d7a5-cb81-47f9-9032-b96ea9222e88",
   "metadata": {},
   "source": [
    "## Module\n",
    "Samostatný py soubor, který může obsahovat funkce, třídy, ..."
   ]
  },
  {
   "cell_type": "code",
   "execution_count": null,
   "id": "4904b999-3903-44cf-a669-c6a35e554997",
   "metadata": {
    "tags": []
   },
   "outputs": [],
   "source": [
    "import module"
   ]
  },
  {
   "cell_type": "markdown",
   "id": "626d42aa-4858-49b1-8c15-2a6b87e225f2",
   "metadata": {},
   "source": [
    "## Package\n",
    "* Složka, která obsahuje více modulů, balíčků apod.\n",
    "* Adresářová struktura na disku je struktura modulu\n",
    "* \\_\\_init\\_\\_.py - inicializační modul\n",
    "* Lze mít v modulech stejné názvy tříd, pak je třeba správně importovat nebo správně kvalifikovat"
   ]
  },
  {
   "cell_type": "markdown",
   "id": "98f0eac7",
   "metadata": {},
   "source": [
    "Pokud modul chybí, lze často nainstalovat pomocí pip\n",
    "\n",
    "**pip install network collection numpy**"
   ]
  },
  {
   "cell_type": "markdown",
   "id": "742acf3f-1cc7-4b4a-ad87-760e1c0364a7",
   "metadata": {},
   "source": [
    "network\n",
    "    __init__.py\n",
    "    socket.py\n",
    "    http\n",
    "        __init__.py\n",
    "        request.py\n",
    "        response.py"
   ]
  },
  {
   "cell_type": "code",
   "execution_count": null,
   "id": "9b24ddc2-e12e-4816-899f-e32a248f81fd",
   "metadata": {},
   "outputs": [],
   "source": [
    "# Příklad, jak importovat pro výše uvedenou strukturu\n",
    "from network.http.request import Request"
   ]
  },
  {
   "cell_type": "code",
   "execution_count": 12,
   "id": "602f5070-bead-4ecc-b9e8-f25bf141857f",
   "metadata": {},
   "outputs": [],
   "source": [
    "import time\n",
    "import os, re, sys\n",
    "import multiprocessing as mp\n",
    "from collections import namedtuple, defaultdict\n",
    "from email import *     # dobré jen pro experimenty, po letech se modul může změnit a naimportuje se něco jiného"
   ]
  },
  {
   "cell_type": "markdown",
   "id": "57b55793-c6fe-4eb8-bc2e-07b5de1079a5",
   "metadata": {},
   "source": [
    "## Library\n",
    "Kolekce modulů a package, které zajišťují nějakou funkcionalitu"
   ]
  },
  {
   "cell_type": "code",
   "execution_count": 4,
   "id": "ed0e0dff-850e-4ade-a3af-6fce85389b1f",
   "metadata": {},
   "outputs": [],
   "source": [
    "import numpy as np"
   ]
  }
 ],
 "metadata": {
  "kernelspec": {
   "display_name": "Python 3",
   "language": "python",
   "name": "python3"
  },
  "language_info": {
   "codemirror_mode": {
    "name": "ipython",
    "version": 3
   },
   "file_extension": ".py",
   "mimetype": "text/x-python",
   "name": "python",
   "nbconvert_exporter": "python",
   "pygments_lexer": "ipython3",
   "version": "3.8.10"
  }
 },
 "nbformat": 4,
 "nbformat_minor": 5
}
