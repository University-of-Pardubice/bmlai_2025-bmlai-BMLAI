{
 "cells": [
  {
   "cell_type": "markdown",
   "id": "094b4444-61ef-4dae-b2eb-342e6db7f5ac",
   "metadata": {},
   "source": [
    "# Výjimka"
   ]
  },
  {
   "cell_type": "code",
   "execution_count": null,
   "id": "4528a52d-9892-4030-bbaa-a5bacdea5289",
   "metadata": {
    "tags": []
   },
   "outputs": [],
   "source": [
    "raise IOError('not enough space')"
   ]
  },
  {
   "cell_type": "code",
   "execution_count": null,
   "id": "f70a5028-5cad-476f-8d85-0d93d4eb25d1",
   "metadata": {
    "tags": []
   },
   "outputs": [],
   "source": [
    "try:\n",
    "    print (\"Kód s možnou chybou\")\n",
    "except IOError as ex:\n",
    "    print (\"IOError vyjímka\")\n",
    "except:\n",
    "    print (\"všechny vyjímky\")\n",
    "else:\n",
    "    print (\"Žádná vyjímka\")\n",
    "finally:\n",
    "    print (\"Spustí se vždy\")"
   ]
  },
  {
   "cell_type": "markdown",
   "id": "1be4f9fd",
   "metadata": {},
   "source": [
    "# Práce se souborem"
   ]
  },
  {
   "cell_type": "code",
   "execution_count": null,
   "id": "57190629-00d1-49ec-83a4-9d393861fdc1",
   "metadata": {},
   "outputs": [],
   "source": [
    "# Špatně\n",
    "f = open ('file.txt', 'r')\n",
    "contents = f.read()\n",
    "f.close()"
   ]
  },
  {
   "cell_type": "code",
   "execution_count": null,
   "id": "28422353-5e58-4a7d-932e-a8bcb34590b6",
   "metadata": {},
   "outputs": [],
   "source": [
    "# Lépe\n",
    "f = open ('file.txt', 'r')\n",
    "try:\n",
    "    contents = f.read()\n",
    "finally:\n",
    "    f.close()"
   ]
  },
  {
   "cell_type": "code",
   "execution_count": null,
   "id": "d1d4da87-939d-4f63-8b6b-acab060e88fc",
   "metadata": {
    "tags": []
   },
   "outputs": [],
   "source": [
    "# Nejlépe\n",
    "# vždy zavře soubor, i když dojde k vyjímce\n",
    "with open ('file.txt', 'r') as f:\n",
    "    contents = f.read()"
   ]
  }
 ],
 "metadata": {
  "kernelspec": {
   "display_name": "Python 3 (ipykernel)",
   "language": "python",
   "name": "python3"
  },
  "language_info": {
   "codemirror_mode": {
    "name": "ipython",
    "version": 3
   },
   "file_extension": ".py",
   "mimetype": "text/x-python",
   "name": "python",
   "nbconvert_exporter": "python",
   "pygments_lexer": "ipython3",
   "version": "3.13.2"
  }
 },
 "nbformat": 4,
 "nbformat_minor": 5
}
