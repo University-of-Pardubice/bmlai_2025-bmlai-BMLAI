{
 "cells": [
  {
   "cell_type": "markdown",
   "id": "1d0a74d5-5cb6-4289-8ed8-2411f8aa3da2",
   "metadata": {},
   "source": [
    "# Bloky\n",
    "Bloky slouží ke seskupení více příkazů. Používají se v podmínkách, cyklech, funkcích, objektech apod.\n",
    "\n",
    "V ostatních jazycích se používají {}, begin end apod.\n",
    "\n",
    "V pythonu se pro definici bloku používá *odsazení*.\n",
    "\n",
    "Nový blok vytvoříte tak, že napíšete na začátku řádků před příkazy, které spolu tvoří blok, libovolný počet mezer nebo tabulátorů. Ale před všemi příkazy v bloku musí být stejný počet mezer a tabulátorů! Odsadíte-li o mezeru více, nebo pokud místo tabulátoru použijete mezery, začnete tím jiný blok. Pokud vytvoříte nový blok na místě, kde nemá být, skončí program s chybou.\n",
    "\n",
    "**Standard jsou mezery.**"
   ]
  },
  {
   "cell_type": "code",
   "execution_count": null,
   "id": "477184d0-c5f0-4919-899a-1b2c88351813",
   "metadata": {
    "tags": []
   },
   "outputs": [],
   "source": [
    "a=10\n",
    "if (a == 1):\n",
    "    # začátek bloku\n",
    "    print (\"A je 1\")\n",
    "    print (\"Dalsi radek\")\n",
    "    # konec bloku\n",
    "elif (a==2):\n",
    "    # začátek bloku\n",
    "    print (\"A je 2\")\n",
    "    print (\"Dalsi radek\")\n",
    "    # konec bloku\n",
    "else:\n",
    "    # začátek bloku\n",
    "    print (\"A neni 1 ani 2\")\n",
    "    # konec bloku"
   ]
  },
  {
   "cell_type": "markdown",
   "id": "d6ff8b51-7409-4620-9601-44ca3fd485a7",
   "metadata": {},
   "source": [
    "# Podmínky\n",
    "V podmínkých lze používat klasické logické operátory jako **and**, **or**, **not**.\n",
    "\n",
    "Podmínky mohou být i složené. Pak se oddělují závorkami.\n",
    "\n",
    "Příkaz **match** je ekvivalentem příkazu switch v jiných jazycích. Platný od verze 3.10\n",
    "\n",
    "Operátor **in** pro zjištění, zda prvek je listu, apod.\n",
    "\n",
    "Operátor **is** porovnává zda proměnné ukazují na stejný objekt"
   ]
  },
  {
   "cell_type": "code",
   "execution_count": null,
   "id": "e2156c47-eb3a-472b-8f65-23d8072ca725",
   "metadata": {
    "tags": []
   },
   "outputs": [],
   "source": [
    "cislo = 1\n",
    "match (cislo):\n",
    "    case 1:\n",
    "        print (\"Cislo 1\")\n",
    "    case 2:\n",
    "        print (\"Cislo 2\")\n",
    "    case _:\n",
    "        print (\"Cislo jine nez 1 nebo 2\")"
   ]
  },
  {
   "cell_type": "markdown",
   "id": "0e4be5de-9907-4f55-9eb9-0cf4a1698460",
   "metadata": {},
   "source": [
    "# For cyklus\n",
    "**for** cyklus je velmi podobný ostatním jazykům. Zpravidla se používá pro zpracování pole, seznamu, range, ...\n",
    "\n",
    "Za definicí for je dvojtečka.\n",
    "\n",
    "**range** je funkce, která vrací sekvenci čísel. Plná syntaxe je range(start, stop, step) \n",
    "\n",
    "* pokud není zadáno začíná 0\n",
    "* končí číslem o 1 menším než je vstupní parametr"
   ]
  },
  {
   "cell_type": "code",
   "execution_count": null,
   "id": "9455e568-434e-4694-a940-ac691c7a35d5",
   "metadata": {
    "tags": []
   },
   "outputs": [],
   "source": [
    "for i in range(4):\n",
    "    print (i)"
   ]
  },
  {
   "cell_type": "code",
   "execution_count": null,
   "id": "e589262f-b2e7-4c3a-bc8f-2f8df1afeee3",
   "metadata": {
    "tags": []
   },
   "outputs": [],
   "source": [
    "for i in range (1, 5):\n",
    "    if (i % 2 != 0):\n",
    "        print (f\"Cislo {i} je liche\")\n",
    "    else:\n",
    "        print (f\"Cislo {i} je sude\")"
   ]
  },
  {
   "cell_type": "markdown",
   "id": "cf0a8b15-6860-46e9-bb50-d816bece525d",
   "metadata": {},
   "source": [
    "# while cyklus\n",
    "Tělo cyklu se provádí, dokud je splněna podmínka"
   ]
  },
  {
   "cell_type": "code",
   "execution_count": null,
   "id": "f88ef68f-9b17-41bd-8b9e-ca291791a6b2",
   "metadata": {
    "tags": []
   },
   "outputs": [],
   "source": [
    "i=1\n",
    "j=5\n",
    "while i < j:\n",
    "    print(i)\n",
    "    i += 1"
   ]
  },
  {
   "cell_type": "markdown",
   "id": "fc630c62-f5e4-40b3-a783-7713def565c3",
   "metadata": {},
   "source": [
    "# break, continue a else\n",
    "* Příkaz **break** ukončí okamžitě cyklus\n",
    "* Příkaz **continue** způsobí ukončení aktuální iterace (zbytek bloku těla cyklu se neprovede, ale cyklus pokračuje následující iterací). "
   ]
  },
  {
   "cell_type": "code",
   "execution_count": null,
   "id": "87ff3f8c-a5e1-4f73-a369-d9d4ced04b0c",
   "metadata": {
    "tags": []
   },
   "outputs": [],
   "source": [
    "for i in range(1000):\n",
    "    if i % 3 == 0:\n",
    "        print(f'{i} je delitelne 3')\n",
    "        continue\n",
    "\n",
    "    if i > 10:\n",
    "        print(f'{i} > 10, proto konec')\n",
    "        break\n",
    "        \n",
    "    print(i)"
   ]
  },
  {
   "cell_type": "markdown",
   "id": "012feee6-1ec5-4aaf-af5f-cc698f78a22f",
   "metadata": {},
   "source": [
    "Cykly mohou mít v Pythonu **else**. Příkaz break se často používá v případě, že se během cyklu našlo to, co se hledalo. \n",
    "\n",
    "Příkaz else se tak využívá v případech, kdy se nic nenašlo. Tedy kdy cyklus nebyl ukončen pomocí break. \n",
    "\n",
    "Příkaz **pass** znamená nic nedělej. Často se používá do připravených větví podmínek, funkcí , ..., které budeme implementovat později, ale chceme aby byl program validní. \n"
   ]
  },
  {
   "cell_type": "code",
   "execution_count": null,
   "id": "e4fe13c7-31bc-4691-a857-64e5434d55be",
   "metadata": {
    "tags": []
   },
   "outputs": [],
   "source": [
    "cisla = [1, 2, 3 ,4, 5]\n",
    "for i in cisla:\n",
    "    if i == 100:\n",
    "        print('Nasel jsem 100')\n",
    "        break\n",
    "    else:\n",
    "        pass\n",
    "else:\n",
    "     print('Sto nenalezeno')"
   ]
  },
  {
   "cell_type": "markdown",
   "id": "3e7eeebe-1428-4360-a340-5a3e6ec123e6",
   "metadata": {},
   "source": [
    "# Assert\n",
    "* Kontrola podmínky. Pokud není splněna, je vyvolána výjimka."
   ]
  },
  {
   "cell_type": "code",
   "execution_count": null,
   "id": "5415142d-d106-4771-9dfd-cae72e139ee2",
   "metadata": {
    "tags": []
   },
   "outputs": [],
   "source": [
    "x = \"hello\"\n",
    "\n",
    "# pokud se podmínka vrátí True, pak se nic nestane:\n",
    "assert x == \"hello\"\n",
    "\n",
    "# pokud se podmínka vrátí False, je vyvolána chyba AssertionError:\n",
    "assert x == \"goodbye\""
   ]
  }
 ],
 "metadata": {
  "kernelspec": {
   "display_name": "Python 3",
   "language": "python",
   "name": "python3"
  },
  "language_info": {
   "codemirror_mode": {
    "name": "ipython",
    "version": 3
   },
   "file_extension": ".py",
   "mimetype": "text/x-python",
   "name": "python",
   "nbconvert_exporter": "python",
   "pygments_lexer": "ipython3",
   "version": "3.8.10"
  }
 },
 "nbformat": 4,
 "nbformat_minor": 5
}
