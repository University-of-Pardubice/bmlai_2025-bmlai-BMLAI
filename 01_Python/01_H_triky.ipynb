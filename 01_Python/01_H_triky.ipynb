{
 "cells": [
  {
   "cell_type": "markdown",
   "id": "f34f275b-91f8-4bd4-901b-aae8fe12435d",
   "metadata": {},
   "source": [
    "# Jazykové idiomy\n",
    "pythonic vs Unpythonic"
   ]
  },
  {
   "cell_type": "code",
   "execution_count": null,
   "id": "159130aa-905d-4167-818e-3aa862dade7d",
   "metadata": {
    "tags": []
   },
   "outputs": [],
   "source": [
    "# Vypíše idea pythonu\n",
    "import this"
   ]
  },
  {
   "cell_type": "code",
   "execution_count": null,
   "id": "8fa77e46-e8ee-4a94-b439-326ee4d77152",
   "metadata": {},
   "outputs": [],
   "source": [
    "# Procházení seznamu\n",
    "# ugly\n",
    "i = 0\n",
    "items=(1, 2, 3)\n",
    "while i < len(items):\n",
    "    print (items[i])\n",
    "    i +=1\n",
    "    \n",
    "# Beautiful \n",
    "for item in items:\n",
    "    print (item)"
   ]
  },
  {
   "cell_type": "markdown",
   "id": "905992c7-8c16-4c7a-b901-40162413ba81",
   "metadata": {},
   "source": [
    "# Anonymní, lambda funkce"
   ]
  },
  {
   "cell_type": "code",
   "execution_count": null,
   "id": "e9441334-e2d5-488e-b26d-1492af95a6a2",
   "metadata": {},
   "outputs": [],
   "source": [
    "people.sort (key=lambda person: person.name)"
   ]
  },
  {
   "cell_type": "markdown",
   "id": "2c7ab901-1e21-4e56-80b4-e2cb6e48058a",
   "metadata": {},
   "source": [
    "# list/set/dict comprehension\n",
    "* lze  provést matematickou operaci nad listem\n",
    "* pro každé x ze seznamu, pokud je x dělitelné 2, vypočítej jeho druhou mocninu"
   ]
  },
  {
   "cell_type": "code",
   "execution_count": null,
   "id": "17273cfd-e85e-48fd-b769-d9a27794a275",
   "metadata": {
    "tags": []
   },
   "outputs": [],
   "source": [
    "list = [1, 2, 3, 4, 5]\n",
    "square = [x ** 2 for x in list if x % 2 == 0]\n",
    "square"
   ]
  },
  {
   "cell_type": "markdown",
   "id": "2de19760-e940-484b-a178-62fb0e7829d6",
   "metadata": {},
   "source": [
    "# Ternální operátor"
   ]
  },
  {
   "cell_type": "code",
   "execution_count": null,
   "id": "e53cb4f3-6364-4e18-9175-f8d468d192e1",
   "metadata": {
    "tags": []
   },
   "outputs": [],
   "source": [
    "price = 50\n",
    "cost = 'levné' if price <= 100 else 'drahe'\n",
    "cost"
   ]
  },
  {
   "cell_type": "markdown",
   "id": "7d98c7ba-a6da-4863-93bd-c3c68c656573",
   "metadata": {},
   "source": [
    "# Chain comparision"
   ]
  },
  {
   "cell_type": "code",
   "execution_count": null,
   "id": "e5770f5d-6031-4e9a-a6e2-d5f5fed72ee0",
   "metadata": {
    "tags": []
   },
   "outputs": [],
   "source": [
    "x=4\n",
    "if 1 < x < 5:\n",
    "    print (\"x je mezi 1 a 5\")"
   ]
  },
  {
   "cell_type": "markdown",
   "id": "2810b79b-a04c-4498-a956-58bdafde1300",
   "metadata": {},
   "source": [
    "# Čtení bloků ze souboru\n",
    ":= cyklus přes fixní délku bloku přiřazování vrácí výraz"
   ]
  },
  {
   "cell_type": "code",
   "execution_count": null,
   "id": "11301412-e2b0-4cf2-9bd1-db498cc131a2",
   "metadata": {},
   "outputs": [],
   "source": [
    "while block := f.read(256) != '':\n",
    "       process(block)"
   ]
  },
  {
   "cell_type": "markdown",
   "id": "a6d16771-27f9-4b67-b755-270ad5920af9",
   "metadata": {},
   "source": [
    "# Výkon"
   ]
  },
  {
   "cell_type": "markdown",
   "id": "20fffa0c-2f6a-402f-8b0d-82453abdd37f",
   "metadata": {},
   "source": [
    "## Cache výsledků funkcí\n"
   ]
  },
  {
   "cell_type": "code",
<<<<<<< HEAD
   "execution_count": null,
=======
   "execution_count": 9,
>>>>>>> 1098dea5a5ef5efec16d1cc513b3af89c53167ea
   "id": "3ba59512-b4ee-4259-ac23-35719cf5ecf7",
   "metadata": {
    "tags": []
   },
   "outputs": [],
   "source": [
    "def fib(n: int) -> int:\n",
    "    if n <= 1:\n",
    "        return n\n",
    "    else:\n",
    "        return fib (n - 1) + fib (n - 2)"
   ]
  },
  {
   "cell_type": "code",
   "execution_count": null,
   "id": "a6bbd407-2f96-49b7-ae31-a59f92c9b423",
   "metadata": {
    "tags": []
   },
   "outputs": [],
   "source": [
    "for i in range (0, 40):\n",
    "    print (f'{i}: {fib(i)}')"
   ]
  },
  {
   "cell_type": "code",
<<<<<<< HEAD
   "execution_count": null,
=======
   "execution_count": 11,
>>>>>>> 1098dea5a5ef5efec16d1cc513b3af89c53167ea
   "id": "3335fd7f-a273-4a61-8ba0-5858d896b882",
   "metadata": {
    "tags": []
   },
   "outputs": [],
   "source": [
    "from functools import lru_cache\n",
    "@lru_cache\n",
    "def fib(n: int) -> int:\n",
    "    if n <= 1:\n",
    "        return n\n",
    "    else:\n",
    "        return fib (n - 1) + fib (n - 2)"
   ]
  },
  {
   "cell_type": "code",
   "execution_count": null,
   "id": "ab5f3fe6-a253-45a2-883b-e07d3294a086",
   "metadata": {
    "tags": []
   },
   "outputs": [],
   "source": [
    "for i in range (0, 40):\n",
    "    print (f'{i}: {fib(i)}')"
   ]
  },
  {
   "cell_type": "markdown",
   "id": "4462cb3d-0056-44c2-8261-47f13a3128e5",
   "metadata": {},
   "source": [
    "# Funkce help()\n",
    "Vypisuje syntaxy python příkazu."
   ]
  },
  {
   "cell_type": "code",
   "execution_count": null,
   "id": "87cf8e54",
   "metadata": {},
   "outputs": [],
   "source": [
    "help(print)"
   ]
  },
  {
   "cell_type": "code",
<<<<<<< HEAD
   "execution_count": null,
=======
   "execution_count": 14,
>>>>>>> 1098dea5a5ef5efec16d1cc513b3af89c53167ea
   "id": "2233e1eb",
   "metadata": {},
   "outputs": [],
   "source": [
    "def my_func(a : int, b:int )-> int:\n",
    "    \"\"\" Addings two numbers\n",
    "    a: int\n",
    "    b: int\n",
    "    \n",
    "    return int\n",
    "    \"\"\"\n",
    "    return (a+b)"
   ]
  },
  {
   "cell_type": "code",
   "execution_count": null,
   "id": "8a60580d",
   "metadata": {},
   "outputs": [],
   "source": [
    "my_func(1, 3)"
   ]
  },
  {
   "cell_type": "code",
   "execution_count": null,
   "id": "1f9e6e65",
   "metadata": {},
   "outputs": [],
   "source": [
    "help(my_func)"
   ]
  }
 ],
 "metadata": {
  "kernelspec": {
<<<<<<< HEAD
   "display_name": "Python 3 (ipykernel)",
=======
   "display_name": "Python 3",
>>>>>>> 1098dea5a5ef5efec16d1cc513b3af89c53167ea
   "language": "python",
   "name": "python3"
  },
  "language_info": {
   "codemirror_mode": {
    "name": "ipython",
    "version": 3
   },
   "file_extension": ".py",
   "mimetype": "text/x-python",
   "name": "python",
   "nbconvert_exporter": "python",
   "pygments_lexer": "ipython3",
<<<<<<< HEAD
   "version": "3.13.2"
=======
   "version": "3.8.10"
>>>>>>> 1098dea5a5ef5efec16d1cc513b3af89c53167ea
  }
 },
 "nbformat": 4,
 "nbformat_minor": 5
}
