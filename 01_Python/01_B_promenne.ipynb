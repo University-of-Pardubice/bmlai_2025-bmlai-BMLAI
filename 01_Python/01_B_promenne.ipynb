{
 "cells": [
  {
   "cell_type": "markdown",
   "id": "743f0431-3fd6-45fa-b723-9e67b296e559",
   "metadata": {},
   "source": [
    "# 1. Datové typy - třídy\n",
    "\n",
    "* **Silně typový jazyk**\n",
    "* **Dynamicky typovaný**\n",
    "    * Definice podle typu hodnoty, výrazu při prvním přiřzení\n",
    "    * Nebo lze použít explicitní přetypování\n",
    "    * Kontrola typů provádí při běhu programu\n",
    "* Typy jsou objekty"
   ]
  },
  {
   "cell_type": "markdown",
   "id": "13731b08-2525-4f33-89f3-1ce035c2427a",
   "metadata": {},
   "source": [
    "## 1.2 Neměnné datové typy\n",
    "Po přiřazení k proměnné již nelze typ proměnné změnit.\n",
    "\n",
    "* bool - True, False\n",
    "* int - celá čísla, nejsou na fixní počet bitů, není problém číslo 451654872154787894564156475645564654\n",
    "* float - speciální čísla infinity, NaN (Not a Number)\n",
    "* complex - komplexní čísla (2 + 3j)\n",
    "* str - řetězec\n",
    "* bytes - b’\\x68\\x65\\x6c\\x6c\\x6f’\n",
    "* tupple - vysvětleno dále\n",
    "* None - prázdná hodnota"
   ]
  },
  {
   "cell_type": "code",
   "execution_count": 1,
   "id": "c753312d-ea82-47c7-9885-0500d2b04892",
   "metadata": {
    "tags": []
   },
   "outputs": [],
   "source": [
    "i=1\n",
    "i2=i + 1\n",
    "i4= 1_000_000\n",
    "f=1.0\n",
    "f2 = f + 1\n",
    "str1='0'"
   ]
  },
  {
   "cell_type": "code",
   "execution_count": null,
   "id": "df2b8a31-d676-4e03-8aa8-edb2f49bdd0e",
   "metadata": {
    "tags": []
   },
   "outputs": [],
   "source": [
    "# vypsání typu proměnné\n",
    "print (type(i))\n",
    "print (type(i2))\n",
    "print (type(f))\n",
    "print (type(f2))\n",
    "print (type(str1))"
   ]
  },
  {
   "cell_type": "code",
   "execution_count": null,
   "id": "df522183-17f7-4e94-b067-aac115073011",
   "metadata": {
    "tags": []
   },
   "outputs": [],
   "source": [
    "# Explicitně definový typ\n",
    "i3 = int (1.0)\n",
    "s2 = str (i3)\n",
    "print (type(i3))\n",
    "print (type(s2))"
   ]
  },
  {
   "cell_type": "code",
   "execution_count": null,
   "id": "e8b5ee6e-b24a-408d-a463-131821a05747",
   "metadata": {
    "tags": []
   },
   "outputs": [],
   "source": [
    "# Při přiřazení se udělá kopie dat\n",
    "x = 1\n",
    "y = x\n",
    "x = 2\n",
    "print (x)\n",
    "print (y)"
   ]
  },
  {
   "cell_type": "markdown",
   "id": "c0aaa23b-31d3-42ea-8508-914d40f5c8b1",
   "metadata": {},
   "source": [
    "## 1.3 Měnitelné datové typy\n",
    "- list\n",
    "- set\n",
    "- dict"
   ]
  },
  {
   "cell_type": "code",
   "execution_count": null,
   "id": "e49255ed-3d23-4689-bd11-d0debc098f0e",
   "metadata": {
    "tags": []
   },
   "outputs": [],
   "source": [
    "# Při přiřazení se neudělá kopie dat, předá se ukazatel\n",
    "a=[1,2,3]\n",
    "b=a        # vytvoření kopie reference\n",
    "b[2]=4     # a[2] bude také 4\n",
    "\n",
    "print (a)\n",
    "print (b)"
   ]
  },
  {
   "cell_type": "markdown",
   "id": "55767b0b-2bf9-4914-a9a1-1e5f1dac403d",
   "metadata": {},
   "source": [
    "## 1.4 Celá čísla"
   ]
  },
  {
   "cell_type": "code",
   "execution_count": null,
   "id": "9fca99f8-aa73-4df5-8dd8-f7c180a0bd27",
   "metadata": {
    "tags": []
   },
   "outputs": [],
   "source": [
    "int(3.9)         # osekává, nezaokrouhluje. Z -2.9 se stane -2\n",
    "\n",
    "# round používá bankéřské zaokrouhlování - na sudé číslo (round(6.5) = 6; round(7.5)=8)\n",
    "round(3.14, 1)   # zaokrouhlení na 1 des. místo\n",
    "round(2737, -2)  # zaokrouhlení na stovky\n",
    "\n",
    "\n",
    "#    // je celočíslený výsledek po dělení. U kladných čísel osekne desetinou část, u záporných čísel vrací nižní hodnotu. Pokud je jeden z členů float, vrací se oříznutý float.\n",
    "#    ** - mocnění\n",
    "#    % - modulo\n",
    " \n",
    "print (int(\"FF\", base=16))\n",
    "print (int(\"0b10010\", base=2))\n",
    "print (bin(99))\n",
    "print (hex(99))\n",
    "print (oct(99))"
   ]
  },
  {
   "cell_type": "code",
   "execution_count": null,
   "id": "b7088280-e8a2-4260-a6d2-51567b55bf5a",
   "metadata": {
    "tags": []
   },
   "outputs": [],
   "source": [
    "# Test typu hodnoty\n",
    "isinstance(i2, int)"
   ]
  },
  {
   "cell_type": "markdown",
   "id": "8c709dd2-23a2-45fe-b08a-da2585991ce8",
   "metadata": {},
   "source": [
    "## 1.5 Řetězce\n",
    "\n",
    "* Řetězce jsou v UTF-8, znak může být uložen v 1,2 nebo 3 bytech\n",
    "* program.py **musí být uložen v UTF-8**\n",
    "* Lze používat \"\" nebo ''"
   ]
  },
  {
   "cell_type": "code",
   "execution_count": null,
   "id": "fd464a26-205d-4dac-bd7e-b9d7031db6c2",
   "metadata": {
    "tags": []
   },
   "outputs": [],
   "source": [
    "s='ahbcs'\n",
    "a,b,c,d='ahoj'                     # rozdělá znaky do proměnných\n",
    " \n",
    "delka_retezce=len(s)               # zjištění délky řetězce\n",
    "prvni_znak=s[0]                    # přístup ke znakům řetezce\n",
    "spojeni='abc' + 'def'              # spojení řetězců\n",
    "s3='a'*4                           # opakování znaků aaaa\n",
    "viceradku='prvni\\ndruhy\\ntreti\\n'\n",
    "print (viceradku)\n",
    "print (repr(\"string\\n\"))           # vypíše reprezentaci string s \\n \\t ... pro kontrolu"
   ]
  },
  {
   "cell_type": "markdown",
   "id": "6aa8b9bb-58bf-4f31-8c39-30ff1a976427",
   "metadata": {
    "tags": []
   },
   "source": [
    "### 1.5.1 Formátování řetězců"
   ]
  },
  {
   "cell_type": "code",
   "execution_count": null,
   "id": "5ff9ccf5",
   "metadata": {},
   "outputs": [],
   "source": [
    "a=[1, 2, 3]\n",
    "b='xxx'\n",
    "c=1.222342\n",
    " \n",
    "print (\"b {0} a {1[0]}\".format(b, a))                # {} odkazuje na pořadí proměnné ve formát,  lze použít vícekrát\n",
    "print (\"b {} a[0] {}\".format(b, a[0]))               # vynechání číslování\n",
    "print (\"b {b} a {a}\".format(b=b, a=a[0]))            # pojmenování proměnných\n",
    "\n",
    "print ('{:<30}'.format('left aligned'))              # zarovnávání, řetězec bude mít vždy 30 znaků\n",
    "print ('{:>30}'.format('right aligned'))             #\n",
    "print ('{:^30}'.format('centered'))                  #\n",
    "print ('{:*^30}'.format('centered'))                 # místo mezer budou hvězdičky\n",
    " \n",
    "print ('{0:.1f}'.format(c))                          # formát float\n",
    "print ('{0:03d}'.format(10))                         # formát intu na 3 znaky\n",
    "print ('{0:,}'.format(123456789))                    # oddělovač tisíců\n",
    "  \n",
    "out=f'Hodnota b je {b}, hodnota c je {c}'            # kratší, přehlednější formát, před začátkem řetězce se uvede f"
   ]
  },
  {
   "cell_type": "code",
   "execution_count": null,
   "id": "3376e05e-1c51-4b9a-b7b0-eabc3b4ba0b4",
   "metadata": {
    "tags": []
   },
   "outputs": [],
   "source": [
    "print (\"A\", \"B\", \"C\", sep=\"|\")    # oddělovač parametrů místo mezery"
   ]
  },
  {
   "cell_type": "code",
   "execution_count": null,
   "id": "e040f1eb-6721-4bcc-9fcb-edecddf051bf",
   "metadata": {
    "tags": []
   },
   "outputs": [],
   "source": [
    "print (\"A\", end=\",\")              # na konci příkazu se vytiskne ,\n",
    "print (\"B\")                       # na konci příkazu se standardně vytiskne \\n, nový řádek"
   ]
  },
  {
   "cell_type": "markdown",
   "id": "df0f5131",
   "metadata": {},
   "source": [
    "### 1.5.2 Metody řetězce"
   ]
  },
  {
   "cell_type": "code",
   "execution_count": null,
   "id": "6ede8cb1-03d8-4fd8-b14c-1efe6754a326",
   "metadata": {
    "tags": []
   },
   "outputs": [],
   "source": [
    "s=''' radka1\n",
    "    Radka2\n",
    "    radka3'''\n",
    "print (s.splitlines())            # vrací seznam radku    \n",
    "print (s.lower())                 # prevedeni na mala pismena\n",
    "print (s.isupper())               # kontrola, zda odpovídá\n",
    "print (s.lower().count('r'))      # spocitani počtu r\n",
    "print (\"ad\" in s)                 # vrací True, False, rychlejší než find\n",
    "print (s.index('a'))              # pozice prvního výskytu, jinak vrací výjimku\n",
    "print (s.find('substr'))          # pozice prvního výskytu\n",
    "print (s.replace('old','new', 3)) # náhrada řetězce, kolikrát je nepovinné\n",
    "print (s.strip())                 # odstranění mezery(znaky) na začátku a konci řetězce\n",
    "print (s.isdecimal())             # kontrola číselnosti"
   ]
  },
  {
   "cell_type": "code",
   "execution_count": null,
   "id": "28fdadd7-957c-441b-b5d3-cdd31c6ca9a8",
   "metadata": {
    "tags": []
   },
   "outputs": [],
   "source": [
    "# rozdělení podle &\n",
    "query='heslo=abc&uzivatel=user'\n",
    "a_list=query.split('&')   \n",
    "s5=\" \".join(a_list)\n",
    "print (s5)"
   ]
  },
  {
   "cell_type": "code",
   "execution_count": null,
   "id": "010b5325-bd0d-4803-85fb-9397e0dfaf3f",
   "metadata": {
    "tags": []
   },
   "outputs": [],
   "source": [
    "# substringy\n",
    "a_string='abcdefghijklmnopqrstuvwxyz'\n",
    "print (a_string[3:11])\n",
    "print (a_string[3:-3])\n",
    "print (a_string[0:2])\n",
    "print (a_string[:18])\n",
    "print (a_string[20:])"
   ]
  },
  {
   "cell_type": "markdown",
   "id": "170fcafd-b71f-4ea0-91f2-4dcef9e2f9da",
   "metadata": {},
   "source": [
    "## 1.6 Seznam, list\n",
    "* Seznam libovolných proměnných, ale je vhodné používat stejný datový typ, stejného významu\n",
    "* Indexuje se od 0\n",
    "* Indexování zápornými čísly začíná odzadu"
   ]
  },
  {
   "cell_type": "code",
   "execution_count": 18,
   "id": "1698e44b-74e0-42a3-bb05-40fac4284885",
   "metadata": {
    "tags": []
   },
   "outputs": [],
   "source": [
    "hodnota = 6\n",
    "\n",
    "a_list = ['c', 'd', 1, True]           # vytvoření\n",
    "a_list[2:4]='ab'                       # přiřazení hodnoty do řezu seznamu\n",
    "a_list                                 # výpis\n",
    "a_list[0]                              # první prvek\n",
    "a_list[-1]                             # poslední prvek\n",
    "a_list[0:3]                            # vrací sub seznam prvních 3 prvků (a_list[3] se nevrací)\n",
    "a_list[0:6:2]                          # vrací sub seznam [0, 2, 4] - poslední číslo definuje krok\n",
    "a_list[:3]                             # nula nebo konec se doplňuje automaticky\n",
    "a_list[3:]\n",
    "a_list[:]                              # kopie seznamu\n",
    "a_list[::-1]                           # reverze seznamu\n",
    "a_list.sort()                          # položky musí být stejného typu\n",
    " \n",
    "a_list = a_list + [1, 2.0]             # spojení dvou seznamů do jednoho\n",
    "a_list.append(8)                       # přidá jednu hodnotu nakonec\n",
    "a_list.append([3,4])                   # nakonec seznamu vloží hodnotu, která bude mít podobu seznamu\n",
    "a_list.extend([3, 4])                  # přidá hodnoty nakonec - spojení polí\n",
    "a_list.insert (0, hodnota)              # na první místo vloží hodnotu (6) a zbytek posune\n",
    " \n",
    "len(a_list)                            # délka seznamu\n",
    "a_list.count(1)                        # spočítá počet výskytů hodnoty v seznamu\n",
    "hodnota in a_list                      # vrací boolean, zda je hodnota v seznamu\n",
    "a_list.index(hodnota)                  # vrací index prvku s hodnotou, Pokud se nenajde, vrátí se výjimka ošetřit přes try\n",
    " \n",
    "del a_list[1]                          # smazání prvku 1, v seznamu nevznikají díry\n",
    "a_list.remove (hodnota)                # mazání podle hodnoty, odstraní první výskyt, pokud není nalezena, vrací výjimku\n",
    "a_list.pop                             # odstraní poslední položku seznamu vrátí ji jako argument, u prázdného seznamu vyvolá výjimku\n",
    "a_list.pop(1)                          # odstraní položku na pozici 1 a tu vrátí\n",
    "head, *middle, tail = [1, 2, 3, 4, 5]  # rozdeleni seznamu na hlavicku, stred a ocasek"
   ]
  },
  {
   "cell_type": "code",
   "execution_count": null,
   "id": "0ecd4a6b-efeb-46a8-906a-560a29222962",
   "metadata": {
    "tags": []
   },
   "outputs": [],
   "source": [
    "# Průchod seznamem\n",
    "for hodnota in a_list:\n",
    "    print (hodnota)"
   ]
  },
  {
   "cell_type": "code",
   "execution_count": null,
   "id": "9b3aac35-ea35-4b8c-8de7-6ec1d7f87585",
   "metadata": {
    "tags": []
   },
   "outputs": [],
   "source": [
    "# Průchod seznamem s počítadlem\n",
    "for index, hodnota in enumerate(a_list):\n",
    "    print (f'index={index}, hodnota={hodnota}')"
   ]
  },
  {
   "cell_type": "markdown",
   "id": "b66672ae-a414-430e-8e76-50a03307ba22",
   "metadata": {},
   "source": [
    "**Pro klasické vícerozměrná pole používat knihovna numpy.**"
   ]
  },
  {
   "cell_type": "markdown",
   "id": "8f011ead-afe2-4d54-9c3e-792ba18af078",
   "metadata": {},
   "source": [
    "### 1.6.1 Porovnání seznamu"
   ]
  },
  {
   "cell_type": "code",
   "execution_count": null,
   "id": "15e5b3f3-347f-400c-915e-0ba24e8471df",
   "metadata": {
    "tags": []
   },
   "outputs": [],
   "source": [
    "# porovnani záleží na pořadí\n",
    "l1 = [10, 20, 30, 40, 50]\n",
    "l2 = [20, 30, 50, 40, 70]\n",
    "l3 = [50, 10, 30, 20, 40]\n",
    "\n",
    "if l1 == l2:\n",
    "    print (\"The lists l1 and l2 are the same\")\n",
    "else:\n",
    "    print (\"The lists l1 and l2 are not the same\")\n",
    "\n",
    "if l1 == l3:\n",
    "    print (\"The lists l1 and l3 are the same\")\n",
    "else:\n",
    "    print (\"The lists l1 and l3 are not the same\")\n"
   ]
  },
  {
   "cell_type": "code",
   "execution_count": null,
   "id": "6e7c672e-7a32-4d73-9a1f-c9c68582ef28",
   "metadata": {
    "tags": []
   },
   "outputs": [],
   "source": [
    "# Pokud při porovnání nezáleží na pořadí, tak si seznam před porovnáním setřídím\n",
    "l1 = [10, 20, 30, 40, 50]\n",
    "l2 = [20, 30, 50, 40, 70]\n",
    "l3 = [50, 10, 30, 20, 40]\n",
    "\n",
    "l1_sorted = sorted(l1)\n",
    "l2_sorted = sorted(l2)\n",
    "l3_sorted = sorted(l3)\n",
    "\n",
    "if l1_sorted == l2_sorted:\n",
    "    print (\"The lists l1 and l2 are the same\")\n",
    "else:\n",
    "    print (\"The lists l1 and l2 are not the same\")\n",
    "\n",
    "if l1_sorted == l3_sorted:\n",
    "    print (\"The lists l1 and l3 are the same\")\n",
    "else:\n",
    "    print (\"The lists l1 and l3 are not the same\")"
   ]
  },
  {
   "cell_type": "markdown",
   "id": "1b6421f4-9fc1-4167-8bfa-e9200a3aa285",
   "metadata": {
    "tags": []
   },
   "source": [
    "### 1.6.2 Kopie seznamu"
   ]
  },
  {
   "cell_type": "code",
   "execution_count": null,
   "id": "a93a8684-0666-4e76-8d1f-5824573c4f0c",
   "metadata": {
    "tags": []
   },
   "outputs": [],
   "source": [
    "# List obsahuje rerence na hodnoty. Při přiřazování pole a=b, zkopíruji pouze referenci. A a B ukazují na stejné hodnoty. Při změně B se změní i A \n",
    "a=[1,2,3]\n",
    "b=a        # vytvoření kopie reference\n",
    "b[2]=4     # a[2] bude také 4\n",
    "\n",
    "print (a)\n",
    "print (b)"
   ]
  },
  {
   "cell_type": "code",
   "execution_count": null,
   "id": "6b37c1e2-dff7-45e4-bb4b-c6340b662b6a",
   "metadata": {
    "tags": []
   },
   "outputs": [],
   "source": [
    "a=[1, 2]\n",
    "b=[a, a, a]   # b obsahuje 3 ukazatele na a, pokud změním a, tak se změna promítne 3x do b.\n",
    "print (b)"
   ]
  },
  {
   "cell_type": "code",
   "execution_count": null,
   "id": "fb6dffe7-d939-49a5-bab4-9d17d5d4345a",
   "metadata": {
    "tags": []
   },
   "outputs": [],
   "source": [
    "# Prvni možnost kopie hodnot pole\n",
    "c=a[:]\n",
    "c[0]=0\n",
    "print (a)\n",
    "print (c)"
   ]
  },
  {
   "cell_type": "code",
   "execution_count": null,
   "id": "10ebae3b-9555-4629-9562-51e8e698c756",
   "metadata": {
    "tags": []
   },
   "outputs": [],
   "source": [
    "# Druhá možnost kopie hodnot pole\n",
    "a=[1, 2]\n",
    "b=a.copy()  \n",
    "b[0]=3\n",
    "print (a)\n",
    "print (b)"
   ]
  },
  {
   "cell_type": "code",
   "execution_count": null,
   "id": "5409e020-4747-4b9b-9ef4-c22f0f25d8b4",
   "metadata": {
    "tags": []
   },
   "outputs": [],
   "source": [
    "# Kopie dělá kopie pouze první úrovně seznamu\n",
    "a=[[1,2], 3]\n",
    "b=a.copy()   \n",
    "b[0][0]=5\n",
    "print (a)\n",
    "print (b)"
   ]
  },
  {
   "cell_type": "code",
   "execution_count": null,
   "id": "251b2e97-6be4-4e7f-a7de-9afa18082c46",
   "metadata": {
    "tags": []
   },
   "outputs": [],
   "source": [
    "# hloubková kopie pole\n",
    "import copy\n",
    "a=[[1,2], 3]\n",
    "b=copy.deepcopy(a)  \n",
    "b[0][0]=5\n",
    "print (a)\n",
    "print (b)"
   ]
  },
  {
   "cell_type": "markdown",
   "id": "3dec6348-a0a4-41cc-b9b1-5278e5cd9571",
   "metadata": {},
   "source": [
    "## 1.7 Tupple, N-tice\n",
    "\n",
    "* Podobné jako seznamy, jen se nedá měnit obsah.\n",
    "* Jsou rychlejší než seznamy\n",
    "* Prázdná n-tice je False\n",
    "* N-tice alespoň s jedním prvkem je True"
   ]
  },
  {
   "cell_type": "code",
   "execution_count": null,
   "id": "39bc3c73-3f94-428c-b535-345bad96cfad",
   "metadata": {},
   "outputs": [],
   "source": [
    "a_tuple = (1, 2, 3, 4)                 # n-tice\n",
    "b_tuple = (23, )                       # n-tice s jedním prvkem\n",
    "a_tuple[0]                             # výpis nultého prvku\n",
    " \n",
    "a_tuple + b_tuple                      # spojí tuple do jednoho velkého tuple\n",
    " \n",
    "               \n",
    "a_list= list (a_tuple)                 # vytvoření seznamu z n-tice          \n",
    "a_tuple= tuple (a_list)                # vytvoření n-tice ze seznamu\n",
    " \n",
    "(w, x,y,z)=a_tuple                     # přiřazení prvků n-tice do proměnných, lze to použít u funkcí, které vrací více hodnot\n",
    "(x,y,z)=range(3)                       # range(3) vrací n-tici (0,1,2)\n",
    " \n",
    "1 in a_tuple                           # test, zda n-tice obsahuje hodnotu\n",
    " \n",
    "a_tuple==b_tuple                       # testuje, zda postupně rovnají prvky entice\n",
    "a_tuple < b_tuple                      # postupně se testuje platnost porovnání po prvcích\n",
    " \n",
    "a_tuple.count(2)                       # kolikrát se hodnota v n-tici vyskytuje\n",
    "a_tuple.index(3)                       # index, kde se nachází hodnota. Pokud je vícekrát, tak se vrací první výskyt\n",
    "len(a_tuple)                           # délka n-tice\n",
    "sum(a_tuple)                           # suma hodnot\n",
    "min(a_tuple)\n",
    "max(a_tuple)"
   ]
  },
  {
   "cell_type": "code",
   "execution_count": null,
   "id": "65b14f81-b75a-45e0-80cc-72ea0a752dca",
   "metadata": {
    "tags": []
   },
   "outputs": [],
   "source": [
    "# Pozor neměnitelný typ, toto skončí chybou\n",
    "x = (1, 2)\n",
    "x[0] = 3"
   ]
  },
  {
   "cell_type": "markdown",
   "id": "7af032cf-2a8f-4485-b8d1-3e335b9e1d4e",
   "metadata": {},
   "source": [
    "## 1.8 Množiny, set\n",
    "\n",
    "* Neuspořádaná kolekce jedinečných hodnot. \n",
    "* Jde s nimi provádět operace průniku, sjednocení, rozdílu. "
   ]
  },
  {
   "cell_type": "code",
   "execution_count": null,
   "id": "22fd1fd8-5905-4c70-955f-663fd2efa518",
   "metadata": {
    "tags": []
   },
   "outputs": [],
   "source": [
    "a_list = [1, 2, 3, 4]\n",
    "\n",
    "\n",
    "a_set = set()            # prázdná množina\n",
    "a_set = {1, 2}\n",
    "b_set = {7, 8}\n",
    "type(a_set)                # výpis typu objektu\n",
    "a_set = set (a_list)       # vytvoření množiny ze seznamu\n",
    "len(a_set)                 # velikost množiny\n",
    "a_set = set()              # vytvoření prázdné množiny (kvůli kompatibilitě s python2)\n",
    " \n",
    "a_set.add (4)              # přidání hodnoty, pokud se přidává duplicitní hodnota, nic se nepřidá\n",
    "a_set.update ({3, 4, 5})   # přidání více hodnot do množiny, lze zadat jako množinu nebo jako seznam\n",
    "a_set.update ([3, 4, 5])   # přidání více hodnot do množiny, lze zadat jako množinu nebo jako seznam, je to jedno\n",
    " \n",
    "a_set.discard(6)           # odebere jednu hodnotu z množiny, pokud tam není, tak se nic neděje\n",
    "a_set.remove(5)            # odebere jedno hodnotu z množiny, pokud tam není tak výjimka\n",
    "a_set.pop()                # odebere náhodně jednu hodnotu a vrátí ji\n",
    " \n",
    "31 in a_set\n",
    "a_set.union (b_set)        # spojení množin\n",
    "a_set.intersection (b_set) # vrací množinu s prvky, které jsou v obou množinách\n",
    "a_set.difference(b_set)    # vrací prvky z množiny a pokud nejsou v b\n",
    "a_set.symmetric_difference(b_set) # vrací prvky, které jsou buď jen a nebo jen v b\n",
    " \n",
    "a_set.issubset(b_set)\n",
    "b_set.issuperset(a_set)"
   ]
  },
  {
   "cell_type": "code",
   "execution_count": 32,
   "id": "89d2e728-1cb5-4e53-b922-b705b3f505cf",
   "metadata": {
    "tags": []
   },
   "outputs": [],
   "source": [
    "# a_set ukazuje na stejnou množinu jako b_set\n",
    "a_set = b_set \n",
    "\n",
    "# vytvoření kopie\n",
    "c_set = b_set.copy()"
   ]
  },
  {
   "cell_type": "code",
   "execution_count": null,
   "id": "8f19b927-c822-4b85-8757-a4eb5973ccb2",
   "metadata": {
    "tags": []
   },
   "outputs": [],
   "source": [
    "# Porovnání, nezáleží na pořadí\n",
    "a = {1, 2}\n",
    "b = {2, 1}\n",
    "a==b"
   ]
  },
  {
   "cell_type": "markdown",
   "id": "a771b0ea-421d-4ac2-a612-f2a52226a287",
   "metadata": {},
   "source": [
    "## 1.9 Dictionary, slovník\n",
    "\n",
    "* Klíče nesmí být duplicitní, nesmí být měnitelné (hash, list)\n",
    "* Hodnoty mohou být libovolné i další slovníky, seznamy apod."
   ]
  },
  {
   "cell_type": "code",
   "execution_count": null,
   "id": "e9a6e7b3-ae6d-46e2-9a2c-04fbaef9fc73",
   "metadata": {
    "tags": []
   },
   "outputs": [],
   "source": [
    "a_dict = {'key1':'hodnota', 'key2':'hodnota'}\n",
    "a_dict['key3']=\"hodnota2\"\n",
    "c_dict= {'key99', \"hodnota99\"}\n",
    "klic='key2'\n",
    "hodnota='hodnota'\n",
    " \n",
    "if hodnota in a_dict:          # kontrola, zda existuje klíč\n",
    "    print (hodnota)\n",
    "    \n",
    "if klic in a_dict.keys():      # výpis klíčů\n",
    "    print (klic)\n",
    "\n",
    "len(a_dict)                    # vrací počet klíčů\n",
    "a_dict.items()                 # vrací seznam klíčů a hodnot\n",
    "b_dict= a_dict.copy()          # kopie slovníku. b=a se předá jen reference, oba ukazují na jedny hodnoty\n",
    " \n",
    "for key in sorted (a_dict.keys()):    \n",
    "    print (key)\n",
    "\n",
    "for value in a_dict.values():\n",
    "    print (value)               # nedokáži zjistit klíč, jen přístup k hodnotám\n",
    "\n",
    "for key, value in a_dict.items():\n",
    "    print (key, value)\n",
    "\n",
    "v=list(a_dict.values())         # převod slovniku na list\n",
    "k=list(a_dict.keys())           # převod slovniku na list\n",
    "n=list(a_dict.items())          # převod slovníku na list n-tic\n",
    "d=dict([(\"klic\",\"hodnota\"), (\"klic2\",\"hodnota2\")] ) # převod listu na dictionary"
   ]
  },
  {
   "cell_type": "markdown",
   "id": "d5559c3e-a920-46e8-a0fb-83a59a6b996f",
   "metadata": {},
   "source": [
    "# 2 Binding objektů a jmen\n",
    "* Objekt může mít 1 až n jmen\n",
    "* Jméno neoznačuje paměťovou lokaci\n",
    "* Do proměnné lze přiřadit objekt určitého typu a za chvíli objekt jiného typu\n",
    "* Do python 3.5 nejsou explicitní deklarace typu. Od 3.5 jsou type hints, je to volitelné. Používá se pro dodatečné kontroly."
   ]
  },
  {
   "cell_type": "code",
   "execution_count": null,
   "id": "1e885399-37ae-4242-9f21-8191080fc5a2",
   "metadata": {
    "tags": []
   },
   "outputs": [],
   "source": [
    "x=1\n",
    "x='abc'\n",
    "print (x)"
   ]
  },
  {
   "cell_type": "code",
   "execution_count": null,
   "id": "a75d0502-1e44-4f07-aee0-2c6a61cc5675",
   "metadata": {
    "tags": []
   },
   "outputs": [],
   "source": [
    "a=[1, 2]\n",
    "b=a          # seznam má dvě jména a, b\n",
    "print (a)\n",
    "print (b)\n",
    "print (\"--------\")\n",
    "a.append(3)\n",
    "print (a)\n",
    "print (b)"
   ]
  },
  {
   "cell_type": "markdown",
   "id": "2c75b124-f4c1-4b3a-90fe-43da26ab32d5",
   "metadata": {},
   "source": [
    "# 3 Smazání proměnné\n",
    "Zruší vazbu mezi jménem a objektem\n",
    "\n",
    "Garbage collector maže objekty bez jména"
   ]
  },
  {
   "cell_type": "code",
   "execution_count": null,
   "id": "aae36966-90ea-4df7-a762-4cc0b4794de7",
   "metadata": {
    "tags": []
   },
   "outputs": [],
   "source": [
    "x=[1, 2, 3]\n",
    "y=x\n",
    "del x\n",
    "print (y)"
   ]
  },
  {
   "attachments": {
    "c007601a-89de-4844-a39f-a5f8d79f2a85.png": {
     "image/png": "[encoded data removed]"
    }
   },
   "cell_type": "markdown",
   "id": "ec2c5ec0-42b8-4c20-9328-4c1e38da1def",
   "metadata": {
    "tags": []
   },
   "source": [
    "# 4 Duck typing\n",
    "* Když to kváká jako kacha a chodí jako kachna, tak to asi bude kachna\n",
    "* To co lze s objektem dělat závisí na tom, co objekt podporuje, jaké má metody\n",
    "* Ne jaké má rozhraní, nebo zda patří do nějaké třídy\n",
    "    \n",
    "![obrazek.png](attachment:c007601a-89de-4844-a39f-a5f8d79f2a85.png)"
   ]
  }
 ],
 "metadata": {
  "kernelspec": {
   "display_name": "Python 3",
   "language": "python",
   "name": "python3"
  },
  "language_info": {
   "codemirror_mode": {
    "name": "ipython",
    "version": 3
   },
   "file_extension": ".py",
   "mimetype": "text/x-python",
   "name": "python",
   "nbconvert_exporter": "python",
   "pygments_lexer": "ipython3",
   "version": "3.8.10"
  }
 },
 "nbformat": 4,
 "nbformat_minor": 5
}
