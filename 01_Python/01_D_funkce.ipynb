{
 "cells": [
  {
   "cell_type": "markdown",
   "id": "29b85cf9-71b1-4bdd-812d-259f4b66fc7d",
   "metadata": {
    "tags": []
   },
   "source": [
    "# Funkce"
   ]
  },
  {
   "cell_type": "markdown",
   "id": "df241cbb-498b-482e-afad-20f299a38044",
   "metadata": {},
   "source": [
    "Funkce jsou first-class object. V pythonu lze dělat s funkcemi cokoliv, co lze dělat s jinými objekty.\n",
    "* Přiřadit do proměnné\n",
    "* Použít jako parametr jiné funkce\n",
    "* Vytvořit ji za běhu"
   ]
  },
  {
   "cell_type": "code",
   "execution_count": 1,
   "id": "22d50c9e-ae75-4de2-b4c7-736706384a1a",
   "metadata": {
    "tags": []
   },
   "outputs": [],
   "source": [
    "def foo(bar):\n",
    "    \"\"\" Dokumentační řetězec\n",
    "        na více řádků\n",
    "    \"\"\"\n",
    "    \n",
    "    return bar"
   ]
  },
  {
   "cell_type": "code",
   "execution_count": 2,
   "id": "5a90b02e-23dc-4d10-9d69-62d5054aba0d",
   "metadata": {
    "tags": []
   },
   "outputs": [
    {
     "data": {
      "text/plain": [
       "3"
      ]
     },
     "execution_count": 2,
     "metadata": {},
     "output_type": "execute_result"
    }
   ],
   "source": [
    "def bar(a=1, b=2):\n",
    "    \"\"\"# defaultní hodnoty parametrů\"\"\"\n",
    "    return a+b\n",
    "bar()"
   ]
  },
  {
   "cell_type": "code",
   "execution_count": 3,
   "id": "b043f552-b8c8-4e33-8978-adbe6ca0fa38",
   "metadata": {
    "tags": []
   },
   "outputs": [
    {
     "data": {
      "text/plain": [
       "4"
      ]
     },
     "execution_count": 3,
     "metadata": {},
     "output_type": "execute_result"
    }
   ],
   "source": [
    "# defaultní parametry lze vynechat nebo přepsat\n",
    "bar(b=3)"
   ]
  },
  {
   "cell_type": "code",
   "execution_count": 4,
   "id": "463f7dc4-7b47-447b-b9a4-1ecff9efef66",
   "metadata": {
    "tags": []
   },
   "outputs": [
    {
     "data": {
      "text/plain": [
       "8"
      ]
     },
     "execution_count": 4,
     "metadata": {},
     "output_type": "execute_result"
    }
   ],
   "source": [
    "# pojmenované parametry lze přehazovat\n",
    "bar (b=3, a=5)"
   ]
  },
  {
   "cell_type": "code",
   "execution_count": 14,
   "id": "c45b809b-9798-4d10-b46e-2d9d99f41f3a",
   "metadata": {
    "tags": []
   },
   "outputs": [
    {
     "data": {
      "text/plain": [
       "6"
      ]
     },
     "execution_count": 14,
     "metadata": {},
     "output_type": "execute_result"
    }
   ],
   "source": [
    "def sum(*args):\n",
    "    \"\"\" Použití libovolného počtu parametrů \"\"\"\n",
    "    result = 0\n",
    "    for a in args:\n",
    "        result+=a\n",
    "    return result\n",
    "sum (1, 2, 3)"
   ]
  },
  {
   "cell_type": "code",
   "execution_count": 21,
   "id": "f8fb3e3f",
   "metadata": {},
   "outputs": [
    {
     "name": "stdout",
     "output_type": "stream",
     "text": [
      "2 1\n"
     ]
    }
   ],
   "source": [
    "# Funkce může vracet více hodnot\n",
    "def foo (a, b):\n",
    "    return b, a\n",
    "\n",
    "x, y = foo(1, 2)\n",
    "print (x, y)"
   ]
  },
  {
   "cell_type": "markdown",
   "id": "5a6ed80a-c872-44a4-995d-eda925e06e8f",
   "metadata": {},
   "source": [
    "# Rozsah platnosti\n",
    "\n",
    "* Priorita vyhodnocování \n",
    "- L - Local\n",
    "- E - Enclosing\n",
    "- G - Global\n",
    "- B - Build-in\n",
    "\n",
    "Explicitní deklarace **global**, **nonlocal**"
   ]
  },
  {
   "cell_type": "code",
   "execution_count": 16,
   "id": "fdcdcb0a-d428-4fc5-855f-b8282e1445ee",
   "metadata": {
    "tags": []
   },
   "outputs": [
    {
     "name": "stdout",
     "output_type": "stream",
     "text": [
      "2\n",
      "1\n"
     ]
    }
   ],
   "source": [
    "x=1\n",
    "def foo2():\n",
    "    x=2\n",
    "    print (x)\n",
    "foo2()\n",
    "print(x)"
   ]
  },
  {
   "cell_type": "code",
   "execution_count": 17,
   "id": "b41de7a2-0c26-420b-a466-ba63768f8a74",
   "metadata": {
    "tags": []
   },
   "outputs": [
    {
     "data": {
      "text/plain": [
       "3"
      ]
     },
     "execution_count": 17,
     "metadata": {},
     "output_type": "execute_result"
    }
   ],
   "source": [
    "# if, for, while nevytváří nový rozsah platnosti\n",
    "def test():\n",
    "    for i in [1, 2, 3]:\n",
    "        pass\n",
    "    return i\n",
    "    \n",
    "test()"
   ]
  }
 ],
 "metadata": {
  "kernelspec": {
   "display_name": "Python 3",
   "language": "python",
   "name": "python3"
  },
  "language_info": {
   "codemirror_mode": {
    "name": "ipython",
    "version": 3
   },
   "file_extension": ".py",
   "mimetype": "text/x-python",
   "name": "python",
   "nbconvert_exporter": "python",
   "pygments_lexer": "ipython3",
   "version": "3.8.10"
  }
 },
 "nbformat": 4,
 "nbformat_minor": 5
}
