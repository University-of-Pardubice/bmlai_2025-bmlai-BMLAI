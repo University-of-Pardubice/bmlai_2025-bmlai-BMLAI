{
 "cells": [
  {
   "cell_type": "markdown",
   "metadata": {},
   "source": [
    "# MNIST\n",
    "\n",
    "MNIST (\"Modified National Institute of Standards and Technology\") je základní datový set používaný pro trénink různých systémů zpracování obrazu a strojového učení. \n",
    "\n",
    "Je to jedna z nejznámějších a nejčastěji používaných datových sad v oboru počítačového vidění. \n",
    "\n",
    "MNIST obsahuje velkou databázi ručně psaných číslic a je často využíván jako vstupní bod pro testování algoritmů strojového učení.\n",
    "\n",
    "Datový set MNIST se skládá z dvou částí:\n",
    "\n",
    "- Trénovací sada: Obsahuje 60 000 příkladů. Každý příklad je monochromatický obrázek o velikosti 28x28 pixelů, který reprezentuje jednu ručně psanou číslici od 0 do 9.\n",
    "- Testovací sada: Obsahuje 10 000 příkladů, které jsou používány pro testování naučených modelů. Tyto příklady mají stejný formát jako ty v trénovací sadě."
   ]
  },
  {
   "cell_type": "code",
<<<<<<< HEAD
   "execution_count": null,
=======
   "execution_count": 1,
   "metadata": {
    "tags": []
   },
   "outputs": [],
   "source": [
    "%matplotlib inline"
   ]
  },
  {
   "cell_type": "code",
   "execution_count": 3,
>>>>>>> 1098dea5a5ef5efec16d1cc513b3af89c53167ea
   "metadata": {
    "tags": []
   },
   "outputs": [],
   "source": [
    "import numpy as np\n",
    "import matplotlib.pyplot as plt\n",
    "import seaborn as sns"
   ]
  },
  {
   "cell_type": "markdown",
   "metadata": {},
   "source": [
    "# 1. Načtení a zobrazení dat"
   ]
  },
  {
   "cell_type": "markdown",
   "metadata": {
    "tags": []
   },
   "source": [
    "MNIST je velmi známý dataset. Je často přirovnáván k Hello world pro strojové učení.\n",
    "\n",
    "Proto mnoho frameworku, má připravené funkce na jeho stažení."
   ]
  },
  {
   "cell_type": "code",
<<<<<<< HEAD
   "execution_count": null,
=======
   "execution_count": 4,
>>>>>>> 1098dea5a5ef5efec16d1cc513b3af89c53167ea
   "metadata": {
    "tags": []
   },
   "outputs": [],
   "source": [
    "from keras.datasets import mnist\n",
    "(X_train, Y_train), (X_test, Y_test) = mnist.load_data()"
   ]
  },
  {
   "cell_type": "code",
   "execution_count": null,
   "metadata": {
    "tags": []
   },
   "outputs": [],
   "source": [
    "print('X_train: ' + str(X_train.shape))\n",
    "print('Y_train: ' + str(Y_train.shape))\n",
    "print('X_test:  '  + str(X_test.shape))\n",
    "print('Y_test:  '  + str(Y_test.shape))"
   ]
  },
  {
   "cell_type": "code",
   "execution_count": null,
   "metadata": {
    "tags": []
   },
   "outputs": [],
   "source": [
    "# Zobrazeni surových dat jednoho čísla\n",
    "# Čísla jsou uložena v matici 28x28 pixelů \n",
    "X_train[0]"
   ]
  },
  {
   "cell_type": "code",
   "execution_count": null,
   "metadata": {
    "tags": []
   },
   "outputs": [],
   "source": [
    "# Hodnoty jsou odstíny šedi 0 - 255\n",
    "# 0 je černá, 255 je bílá\n",
    "img = X_train[0]\n",
    "print (f\"min:{np.amin(X_train[0])} max:{np.amax(X_train[0])}\")"
   ]
  },
  {
   "cell_type": "code",
<<<<<<< HEAD
   "execution_count": null,
=======
   "execution_count": 8,
>>>>>>> 1098dea5a5ef5efec16d1cc513b3af89c53167ea
   "metadata": {
    "tags": []
   },
   "outputs": [],
   "source": [
    "# funkce pro zobrazení n prvních čísel včetně jejich popisků\n",
    "def show_images (images, labels, rows=6, cols=10):\n",
    "    fig, axes = plt.subplots(rows, cols, figsize=(cols, rows))\n",
    "    for idx in range (0, rows * cols):\n",
    "        ridx=idx // cols\n",
    "        cidx=idx % cols\n",
    "        ax= axes[ridx, cidx]\n",
    "        ax.axis(\"off\")\n",
    "        ax.imshow(images[idx], cmap=\"gray_r\")\n",
    "        ax.set_title(f\"{labels[idx]}\")\n",
    "    plt.show()    "
   ]
  },
  {
   "cell_type": "code",
   "execution_count": null,
   "metadata": {
    "tags": []
   },
   "outputs": [],
   "source": [
    "show_images(X_train, Y_train, 2, 10)"
   ]
  },
  {
   "cell_type": "markdown",
   "metadata": {},
   "source": [
    "# 2. Příprava dat"
   ]
  },
  {
   "cell_type": "markdown",
   "metadata": {},
   "source": [
    "Standardizace hodnot z rozsahu 0 - 255 na rozsah 0 - 1"
   ]
  },
  {
   "cell_type": "code",
<<<<<<< HEAD
   "execution_count": null,
=======
   "execution_count": 10,
>>>>>>> 1098dea5a5ef5efec16d1cc513b3af89c53167ea
   "metadata": {
    "tags": []
   },
   "outputs": [],
   "source": [
    "X_train = X_train.astype(\"float32\")/255\n",
    "X_test = X_test.astype(\"float32\")/255"
   ]
  },
  {
   "cell_type": "code",
   "execution_count": null,
   "metadata": {
    "tags": []
   },
   "outputs": [],
   "source": [
    "# Vstupem do neuronové sítě je vektor. \n",
    "# Změníme tvar pole jedné číslice z 28x28 na 784x1\n",
    "print (X_train.shape)\n",
    "X_train = X_train.reshape((X_train.shape[0], X_train.shape[1] * X_train.shape[2]))\n",
    "X_test  = X_test.reshape((X_test.shape[0], X_test.shape[1] * X_test.shape[2]))\n",
    "print (X_train.shape)"
   ]
  },
  {
   "cell_type": "code",
   "execution_count": null,
   "metadata": {
    "tags": []
   },
   "outputs": [],
   "source": [
    "X_train[0]"
   ]
  },
  {
   "cell_type": "code",
<<<<<<< HEAD
   "execution_count": null,
=======
   "execution_count": 14,
>>>>>>> 1098dea5a5ef5efec16d1cc513b3af89c53167ea
   "metadata": {
    "tags": []
   },
   "outputs": [],
   "source": [
    "# pro neuronovou síť potřebujeme upravit i výsledky pomocí binárního encodování\n",
    "# tentokát použijeme vestavěnou funkci ve frameworku keras\n",
    "from keras.utils import to_categorical \n",
    "Y_train = to_categorical(Y_train, num_classes=10)\n",
    "Y_test = to_categorical(Y_test, num_classes=10)"
   ]
  },
  {
   "cell_type": "code",
   "execution_count": null,
   "metadata": {
    "tags": []
   },
   "outputs": [],
   "source": [
    "# reprezentace číslice 5\n",
    "Y_train[0]"
   ]
  },
  {
   "cell_type": "markdown",
   "metadata": {},
   "source": [
    "# 3. Neuronová síť"
   ]
  },
  {
   "cell_type": "markdown",
   "metadata": {},
   "source": [
    "* Sekvenční model - data procházejí ze vstupní vrstvy přes skryté vrstvy do výstupní vrstvy.\n",
    "* Dense vrstva propojuje každý neuron z předchozí vrstvy s každým neuronem ve vrstvě.\n",
    "* Používají se aktivační funkce RELU a Softmax. \n",
    "* Poslední funkce Softmax je použita ve výstupní vrstvě, protože tento projekt je klasifikační."
   ]
  },
  {
   "cell_type": "code",
<<<<<<< HEAD
   "execution_count": null,
=======
   "execution_count": 16,
>>>>>>> 1098dea5a5ef5efec16d1cc513b3af89c53167ea
   "metadata": {
    "tags": []
   },
   "outputs": [],
   "source": [
    "import keras\n",
<<<<<<< HEAD
    "from keras.layers import Dense, Activation, Input\n",
=======
    "from keras.layers import Dense, Activation\n",
>>>>>>> 1098dea5a5ef5efec16d1cc513b3af89c53167ea
    "from keras.models import Sequential"
   ]
  },
  {
   "cell_type": "code",
<<<<<<< HEAD
   "execution_count": null,
=======
   "execution_count": 17,
>>>>>>> 1098dea5a5ef5efec16d1cc513b3af89c53167ea
   "metadata": {
    "tags": []
   },
   "outputs": [],
   "source": [
    "model = Sequential()\n",
<<<<<<< HEAD
    "model.add(Input(shape=(784,))) \n",
    "model.add(Dense(128, activation = \"relu\"))\n",
=======
    "model.add(Dense(128, activation = \"relu\", input_shape=(784, ), input_dim=784))\n",
>>>>>>> 1098dea5a5ef5efec16d1cc513b3af89c53167ea
    "model.add(Dense(64, activation = \"relu\"))\n",
    "model.add(Dense(10, activation = 'softmax'))"
   ]
  },
  {
   "cell_type": "markdown",
   "metadata": {},
   "source": [
    "* Kompilace je posledním krokem při vytváření modelu.\n",
    "* Optimalizátor, který používáme, je Adam. Adam je optimalizační algoritmus, který lze použít místo klasického postupu stochastického gradientního sestupu k iterativní aktualizaci vah sítě na základě trénovacích dat.\n",
    "* Nákladová funkce - categorical_crossentropy, speciální ztrátová funkce pro klasifikaci (https://keras.io/api/losses/probabilistic_losses/#categoricalcrossentropy-class).\n",
    "* Během učení se počítá další metrika - Accuracy"
   ]
  },
  {
   "cell_type": "code",
<<<<<<< HEAD
   "execution_count": null,
=======
   "execution_count": 18,
>>>>>>> 1098dea5a5ef5efec16d1cc513b3af89c53167ea
   "metadata": {
    "tags": []
   },
   "outputs": [],
   "source": [
    "model.compile(loss = \"categorical_crossentropy\",\n",
    "                optimizer = \"adam\",\n",
    "                metrics = [\"accuracy\"]\n",
    "                )"
   ]
  },
  {
   "cell_type": "code",
   "execution_count": null,
   "metadata": {
    "tags": []
   },
   "outputs": [],
   "source": [
    "model.summary()"
   ]
  },
  {
   "cell_type": "code",
<<<<<<< HEAD
   "execution_count": null,
=======
   "execution_count": 20,
>>>>>>> 1098dea5a5ef5efec16d1cc513b3af89c53167ea
   "metadata": {
    "tags": []
   },
   "outputs": [],
   "source": [
    "from keras_visualizer import visualizer \n",
    "visualizer(model, file_format='png', view=True)"
   ]
  },
  {
   "cell_type": "markdown",
   "metadata": {},
   "source": [
    "# 4. Učení\n",
    "\n",
    "- Maximální počet epoch je 200\n",
    "- Velikost dávky je 75\n",
    "- Učení ukončíme, ve chvíly, kdy se přesnost modelu nebude zvyšovat."
   ]
  },
  {
   "cell_type": "code",
   "execution_count": null,
   "metadata": {
    "tags": []
   },
   "outputs": [],
   "source": [
    "# zastavení učení, když se val_loss nebude příliš měnit\n",
    "early_stop = keras.callbacks.EarlyStopping(monitor='accuracy', patience=30)\n",
    "\n",
    "# maximální počet učebních cyklů 500, velikost batch je 5\n",
    "history=model.fit(X_train, Y_train, epochs=200, batch_size=75, callbacks=[early_stop])"
   ]
  },
  {
   "cell_type": "code",
   "execution_count": null,
   "metadata": {
    "tags": []
   },
   "outputs": [],
   "source": [
<<<<<<< HEAD
    "model.save('classification_model_mnist.keras')"
=======
    "model.save('classification_model_mnist')"
>>>>>>> 1098dea5a5ef5efec16d1cc513b3af89c53167ea
   ]
  },
  {
   "cell_type": "markdown",
   "metadata": {},
   "source": [
    "# 5. Historie učení modelu"
   ]
  },
  {
   "cell_type": "code",
   "execution_count": null,
   "metadata": {
    "tags": []
   },
   "outputs": [],
   "source": [
    "plt.plot(history.history['loss'], label='Train Loss')\n",
    "plt.plot(history.history['accuracy'], label='Train Accuracy')\n",
    "plt.legend(loc=\"right\")\n",
    "plt.title('Loss, accuracy')\n",
    "plt.ylabel('Loss, accuracy')\n",
    "plt.xlabel('Počet epoch')\n",
    "plt.show()"
   ]
  },
  {
   "cell_type": "markdown",
   "metadata": {},
   "source": [
    "# 6. Ověření modelu"
   ]
  },
  {
   "cell_type": "code",
   "execution_count": null,
   "metadata": {
    "tags": []
   },
   "outputs": [],
   "source": [
    "# Výpočet predikce testovacích dat\n",
    "Y_pred = model.predict(X_test)"
   ]
  },
  {
   "cell_type": "code",
   "execution_count": null,
   "metadata": {
    "tags": []
   },
   "outputs": [],
   "source": [
    "Y_pred[0]"
   ]
  },
  {
   "cell_type": "code",
   "execution_count": null,
   "metadata": {
    "tags": []
   },
   "outputs": [],
   "source": [
    "Y_test[0]"
   ]
  },
  {
   "cell_type": "code",
   "execution_count": null,
   "metadata": {
    "tags": []
   },
   "outputs": [],
   "source": [
    "# Klasifikační neuronová síť vrací vektor pravděpodobností příslušnosti do jednotlivých tříd.\n",
    "# Pokud chceme jako odpověď jednu třídu, většinou použijeme funkci max\n",
    "import numpy as np\n",
    "Y_pred_best_answer = np.argmax(Y_pred, axis=-1)\n",
    "Y_pred_best_answer"
   ]
  },
  {
   "cell_type": "code",
   "execution_count": null,
   "metadata": {
    "tags": []
   },
   "outputs": [],
   "source": [
    "# totéž provedeme s testovacími odpovědmi (realita)\n",
    "# ideálně se obě pole rovnají\n",
    "Y_test_best_answer=np.argmax(Y_test, axis=-1)\n",
    "Y_test_best_answer"
   ]
  },
  {
   "cell_type": "code",
   "execution_count": null,
   "metadata": {
    "tags": []
   },
   "outputs": [],
   "source": [
    "# Vykreslení confusin matrix\n",
    "from sklearn.metrics import confusion_matrix, accuracy_score\n",
    "cf_matrix=confusion_matrix(Y_test_best_answer, Y_pred_best_answer)\n",
    "sns.heatmap(cf_matrix, annot=True)"
   ]
  },
  {
   "cell_type": "code",
   "execution_count": null,
   "metadata": {
    "tags": []
   },
   "outputs": [],
   "source": [
    "# R2 skóre pro nejlepší odpovědi\n",
    "from sklearn.metrics import r2_score\n",
    "r2 = r2_score(Y_test_best_answer, Y_pred_best_answer)\n",
    "print('R2 score: {}'.format(r2))"
   ]
  },
  {
   "cell_type": "code",
   "execution_count": null,
   "metadata": {
    "tags": []
   },
   "outputs": [],
   "source": [
    "scores = model.evaluate(X_test, Y_test, verbose=0)\n",
    "print (f\"Loss function (categorical_crossentropy): {scores[0]}\")\n",
    "print (f\"Accuracy: {scores[1]}\")"
   ]
  },
  {
   "cell_type": "code",
<<<<<<< HEAD
   "execution_count": null,
=======
   "execution_count": 33,
>>>>>>> 1098dea5a5ef5efec16d1cc513b3af89c53167ea
   "metadata": {
    "tags": []
   },
   "outputs": [],
   "source": [
    "def show_wrong_predictions(X_test, Y_test, Y_pred, rows=5, cols=5):    \n",
    "    \"\"\" \n",
    "    Zobrazení špatných předpovědí\n",
    "    První číslice je správná, druhá odhadovaná\n",
    "    \"\"\"\n",
    "    idx = 0\n",
    "    max_examples = rows * cols\n",
    "    fig, axes = plt.subplots(rows, cols, figsize=(cols, rows))    \n",
    "    for i in range(Y_test.shape[0]):    \n",
    "        if (Y_test[i] != Y_pred[i]):                                    \n",
    "            ridx=idx // cols\n",
    "            cidx=idx % cols            \n",
    "            ax = axes[ridx, cidx]\n",
    "            ax.axis(\"off\")\n",
    "            ax.imshow(X_test[i].reshape(28,28), cmap=\"gray_r\")\n",
    "            ax.set_title(f\"{Y_test[i]} != {Y_pred[i]}\")            \n",
    "            idx +=1\n",
    "            if (idx == max_examples):\n",
    "                break"
   ]
  },
  {
   "cell_type": "code",
   "execution_count": null,
   "metadata": {
    "tags": []
   },
   "outputs": [],
   "source": [
    "show_wrong_predictions(X_test, Y_test_best_answer, Y_pred_best_answer, 2, 10)"
   ]
  },
  {
   "cell_type": "markdown",
   "metadata": {},
   "source": [
    "# 7. Použití modelu\n",
    "Ve chvíli, kdy máme vytrénovaný model, můžeme mu předložit libovolnou matici o rozměrech 28x28\n",
    "\n",
    "Současná architektura neuronové sítě, ji neumožňuje odpovědět, že \"neví\" co je na obrázku.\n",
    "\n",
    "Vždy bude vrace příslušnost do jedné z 10 tříd."
   ]
  },
  {
   "cell_type": "code",
   "execution_count": null,
   "metadata": {
    "tags": []
   },
   "outputs": [],
   "source": [
    "# náhodně vygenerovaná matice\n",
    "img = np.random.rand(1, 784) * 2 -1\n",
    "plt.imshow(img.reshape(28,28), cmap=\"gray_r\")"
   ]
  },
  {
   "cell_type": "code",
   "execution_count": null,
   "metadata": {
    "tags": []
   },
   "outputs": [],
   "source": [
<<<<<<< HEAD
    "img_reshaped = img.reshape(1, 784)\n",
    "test_predictions = model.predict([img_reshaped])"
=======
    "test_predictions = model.predict([img])"
>>>>>>> 1098dea5a5ef5efec16d1cc513b3af89c53167ea
   ]
  },
  {
   "cell_type": "code",
   "execution_count": null,
   "metadata": {
    "tags": []
   },
   "outputs": [],
   "source": [
    "for i in range(10):\n",
    "    print (f\"{i}: {test_predictions[0, i]:.5f}\")"
   ]
<<<<<<< HEAD
  },
  {
   "cell_type": "code",
   "execution_count": null,
   "metadata": {},
   "outputs": [],
   "source": []
=======
>>>>>>> 1098dea5a5ef5efec16d1cc513b3af89c53167ea
  }
 ],
 "metadata": {
  "kernelspec": {
<<<<<<< HEAD
   "display_name": "Python 3 (ipykernel)",
=======
   "display_name": "AI",
>>>>>>> 1098dea5a5ef5efec16d1cc513b3af89c53167ea
   "language": "python",
   "name": "python3"
  },
  "language_info": {
   "codemirror_mode": {
    "name": "ipython",
    "version": 3
   },
   "file_extension": ".py",
   "mimetype": "text/x-python",
   "name": "python",
   "nbconvert_exporter": "python",
   "pygments_lexer": "ipython3",
<<<<<<< HEAD
   "version": "3.9.13"
=======
   "version": "3.8.10"
>>>>>>> 1098dea5a5ef5efec16d1cc513b3af89c53167ea
  }
 },
 "nbformat": 4,
 "nbformat_minor": 4
}
