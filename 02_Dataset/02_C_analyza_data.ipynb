{
 "cells": [
  {
   "cell_type": "markdown",
   "metadata": {
    "tags": []
   },
   "source": [
    "# 1 Průzkum dat a jejich úpravy"
   ]
  },
  {
   "cell_type": "markdown",
   "metadata": {},
   "source": [
    "Volné zdroje dat\n",
    "- https://archive.ics.uci.edu/ml/index.php\n",
    "- https://www.kaggle.com/\n",
    "- https://toolbox.google.com/datasetsearch\n",
    "- github datasety"
   ]
  },
  {
   "cell_type": "markdown",
   "metadata": {
    "tags": []
   },
   "source": [
    "## 1.1 Zdroj dat\n",
    "\n",
    "The Boston Housing Dataset\n",
    "\n",
    "Soubor dat o bydlení je odvozen z informací o bydlení v oblasti Bostonu ve státě Massachusetts, které shromáždil americký úřad pro sčítání lidu.  \n",
    "\n",
    "Údaje byly původně publikovány v článku od  Harrison, D. and Rubinfeld, D.L. `Hedonic prices and the demand for clean air', J. Environ. Economics & Management, vol.5, 81-102, 1978. \n",
    "\n",
    "Datová sada obsahuje informace o 506 různých domech v Bostonu.\n",
    "\n",
    "Dataset features\n",
    "* CRIM - míra kriminality na obyvatele podle měst\n",
    "* ZN - podíl pozemků pro bydlení s rozlohou nad 25 000 m2.\n",
    "* INDUS - podíl neobchodních ploch pro podnikání na město\n",
    "* CHAS - dummy proměnná Charles River (1, pokud trakt hraničí s řekou; 0 jinak)\n",
    "* NOX - koncentrace oxidů dusíku (částic na 10 milionů)\n",
    "* RM - průměrný počet pokojů na byt\n",
    "* AGE - podíl vlastnických bytů postavených před rokem 1940\n",
    "* DIS - vážené vzdálenosti do pěti bostonských center zaměstnanosti\n",
    "* RAD - index dostupnosti k radiálním dálnicím\n",
    "* TAX - sazba daně z nemovitosti v plné hodnotě na 10 000 dolarů\n",
    "* PTRATIO - poměr žáků a učitelů podle měst\n",
    "* B - 1000(Bk - 0,63)^2, kde Bk je podíl černochů v jednotlivých městech.\n",
    "* LSTAT - procento nižšího stavu obyvatelstva\n",
    "* MEDV - mediánová hodnota obydlí obývaných vlastníky v 1000 USD"
   ]
  },
  {
   "cell_type": "markdown",
   "metadata": {},
   "source": [
    "## 1.2 Přečtení dat z CSV souboru"
   ]
  },
  {
   "cell_type": "code",
<<<<<<< HEAD
   "execution_count": null,
=======
   "execution_count": 1,
>>>>>>> 1098dea5a5ef5efec16d1cc513b3af89c53167ea
   "metadata": {
    "tags": []
   },
   "outputs": [],
   "source": [
    "import pandas as pd "
   ]
  },
  {
   "cell_type": "code",
<<<<<<< HEAD
   "execution_count": null,
=======
   "execution_count": 3,
>>>>>>> 1098dea5a5ef5efec16d1cc513b3af89c53167ea
   "metadata": {
    "tags": []
   },
   "outputs": [],
   "source": [
<<<<<<< HEAD
    "data = pd.read_csv (\"..\\\\dataset\\\\HousingData.csv\")"
=======
    "data = pd.read_csv (\"..\\dataset\\HousingData.csv\")"
>>>>>>> 1098dea5a5ef5efec16d1cc513b3af89c53167ea
   ]
  },
  {
   "cell_type": "code",
   "execution_count": null,
   "metadata": {
    "tags": []
   },
   "outputs": [],
   "source": [
    "# informace o struktuře souboru\n",
    "data.info()"
   ]
  },
  {
   "cell_type": "markdown",
   "metadata": {},
   "source": [
    "## 1.3 Základní charakteristiky data"
   ]
  },
  {
   "cell_type": "markdown",
   "metadata": {
    "tags": []
   },
   "source": [
    "Před tvorbou modelu je vhodné mít přehled o vstupních datech.\n",
    "Tím lze předejít pozdějším problémům. Některé modely například vyžadují specifická data."
   ]
  },
  {
   "cell_type": "code",
   "execution_count": null,
   "metadata": {
    "tags": []
   },
   "outputs": [],
   "source": [
    "# prvních 10 řádků\n",
    "data.head(10)"
   ]
  },
  {
   "cell_type": "markdown",
   "metadata": {},
   "source": [
    "Základní statistika dat ve sloupcích\n",
    "- počet záznamů\n",
    "- střední hodnota - průměr\n",
    "- rozptyl\n",
    "- minimum\n",
    "- 25% percentil\n",
    "- 50% percentil - medián\n",
    "- 75% percentil\n",
    "- maximum\n",
    "\n",
    "U některých sloupců se výrazně liší průměr a medián - CRIM, ZN\n",
    "\n",
    "U některých sloupců jsou průměr a medián podobné - RM\n",
    "\n",
    "Dobře vidět to bude při zobrazení distribuce hodnot"
   ]
  },
  {
   "cell_type": "code",
   "execution_count": null,
   "metadata": {
    "tags": []
   },
   "outputs": [],
   "source": [
    "data.describe()"
   ]
  },
  {
   "cell_type": "markdown",
   "metadata": {},
   "source": [
    "Některé sloupce obsahují data NULL. Musíme se rozhodnout, jak tento problém vyřešit.\n",
    "* Neúplné řádky lze z datové sady odstranit\n",
    "* Problematické sloupce by neměly být vstupními parametry modelu\n",
    "* Chybějící hodnoty by mohly být vyrobeny jako průměr, nuly, ...\n",
    "*..."
   ]
  },
  {
   "cell_type": "code",
   "execution_count": null,
   "metadata": {
    "tags": []
   },
   "outputs": [],
   "source": [
    "# kontrola NaN hodnot\n",
    "data.isna().sum()"
   ]
  },
  {
   "cell_type": "markdown",
   "metadata": {},
   "source": [
    "## 1.4 Distribuce hodnot"
   ]
  },
  {
   "cell_type": "markdown",
   "metadata": {},
   "source": [
    "Vizualizace rozložení dat ve sloupcích by mohla objevit zkreslené, abnormální hodnoty."
   ]
  },
  {
   "cell_type": "code",
<<<<<<< HEAD
   "execution_count": null,
=======
   "execution_count": 8,
>>>>>>> 1098dea5a5ef5efec16d1cc513b3af89c53167ea
   "metadata": {
    "tags": []
   },
   "outputs": [],
   "source": [
    "import seaborn as sns\n",
    "import matplotlib.pyplot as plt"
   ]
  },
  {
   "cell_type": "code",
   "execution_count": null,
   "metadata": {
    "tags": []
   },
   "outputs": [],
   "source": [
    "# zobrazení distribuce coločíselných hodnot s odhadem distribuční funkce\n",
    "# kde=True, kernel density estimate line\n",
    "pos = 1\n",
    "fig = plt.figure(figsize=(16,24))\n",
    "for i in data.columns:\n",
    "    ax = fig.add_subplot(7,2, pos)\n",
    "    pos = pos + 1\n",
    "    sns.histplot(data[i], ax=ax, kde=True)"
   ]
  },
  {
   "cell_type": "code",
   "execution_count": null,
   "metadata": {
    "tags": []
   },
   "outputs": [],
   "source": [
    "# stejné informace zobrazené v boxplotu\n",
    "data.plot(\n",
    "    kind='box', \n",
    "    subplots=True, \n",
    "    sharey=False, \n",
    "    figsize=(15, 6)\n",
    ")\n",
    "plt.subplots_adjust(wspace=1) \n",
    "plt.show()"
   ]
  },
  {
   "cell_type": "markdown",
   "metadata": {},
   "source": [
    "## 1.5 Vztahy mezi proměnnými"
   ]
  },
  {
   "cell_type": "markdown",
   "metadata": {},
   "source": [
    "Vytvoření grafů pro všechny kombinace dvou funkcí by nám mohlo ukázat typ závislosti."
   ]
  },
  {
   "cell_type": "code",
   "execution_count": null,
   "metadata": {
    "tags": []
   },
   "outputs": [],
   "source": [
    "sns.pairplot(data)"
   ]
  },
  {
   "cell_type": "markdown",
   "metadata": {
    "tags": []
   },
   "source": [
    "Z grafů je vidět, že existuje určitá přímá uměra mezi RM, LSTAT a MEDV.\n",
    "\n",
    "* RM - průměrný počet pokojů na byt (vstupní proměnná)\n",
    "* LSTAT - procentuálně nižší stav populace (vstupní proměnná)\n",
    "* MDEV - mediánová hodnota obydlí obývaných vlastníky v 1000 USD (výstupní proměnná)"
   ]
  },
  {
   "cell_type": "markdown",
   "metadata": {},
   "source": [
    "Vztahy mezi proměnnými jsme odhadovali podle oka. Ale lze to i dělat exaktně pomocí korelace."
   ]
  },
  {
   "cell_type": "code",
   "execution_count": null,
   "metadata": {
    "tags": []
   },
   "outputs": [],
   "source": [
    "corr=data.corr()\n",
    "corr"
   ]
  },
  {
   "cell_type": "markdown",
   "metadata": {},
   "source": [
    "Silná přímá nebo nepřímá korelace může naznačovat vztah mezi vstupními parametry.\n",
    "To nám může pomoci při volbě vstupních parametrů modelu."
   ]
  },
  {
   "cell_type": "markdown",
   "metadata": {},
   "source": [
    "Někdy může být užitečné zobrazit korelace pomocí teplotní mapy.\n",
    "Obzvláště pokud je korelační matice veliká, tak nám barvy mohou pomoci v orientaci."
   ]
  },
  {
   "cell_type": "code",
   "execution_count": null,
   "metadata": {
    "tags": []
   },
   "outputs": [],
   "source": [
    "plt.figure(figsize = (10,8))\n",
    "sns.heatmap(corr.abs(), annot=True, vmin=0, vmax=1)"
   ]
  },
  {
   "cell_type": "markdown",
   "metadata": {
    "tags": []
   },
   "source": [
    "Například sloupec CHAS (figurální proměnná Charles River) nemá žádnou souvislost s jinými prvky.\n",
    "\n",
    "Naopak sloupce LSTAT, TAX, RAD, NOX, INDUS mají vztahy na další sloupce."
   ]
  },
  {
   "cell_type": "markdown",
   "metadata": {},
   "source": [
    "V příští hodině se bude snažit vytvořit statistický model, který na základě vstupních parametrů bude odhadovat cenu nemovitost MEDV.\n",
    "\n",
    "Budeme k tomu používat lineární regresi.\n",
    "\n",
    "Když se zaměříme na řádek MEDV, tak vhodnými vstupními parametry mohou být sloupce RM, LSTAT."
   ]
  },
  {
   "cell_type": "markdown",
   "metadata": {},
   "source": [
    "## 1.6 Úprava a standardizace dat"
   ]
  },
  {
   "cell_type": "markdown",
   "metadata": {},
   "source": [
    "### 1.6.1 Vyčištění dat"
   ]
  },
  {
   "cell_type": "markdown",
   "metadata": {},
   "source": [
    "Některé sloupce obsahují data NULL. Musíme se rozhodnout, jak tento problém vyřešit. \n",
    "* Neúplné řádky lze ze souboru dat odstranit.\n",
    "* Problematické sloupce by neměly být vstupními parametry modelu.\n",
    "* Záznamy s extremní hodnoty můžeme z datového setu vyloučit. Například protože se jedná o chyby měření."
   ]
  },
  {
   "cell_type": "code",
   "execution_count": null,
   "metadata": {
    "tags": []
   },
   "outputs": [],
   "source": [
    "print (data.isnull().sum())"
   ]
  },
  {
   "cell_type": "code",
<<<<<<< HEAD
   "execution_count": null,
=======
   "execution_count": 15,
>>>>>>> 1098dea5a5ef5efec16d1cc513b3af89c53167ea
   "metadata": {
    "tags": []
   },
   "outputs": [],
   "source": [
    "data=data.dropna()"
   ]
  },
  {
   "cell_type": "markdown",
   "metadata": {},
   "source": [
    "Někdy je užitečné vyřadit data s extrémními hodnotami. \n",
    "Z datového souboru odstraníme řádky, kde je mediánová hodnota domu vyšší než 50."
   ]
  },
  {
   "cell_type": "code",
<<<<<<< HEAD
   "execution_count": null,
=======
   "execution_count": 16,
>>>>>>> 1098dea5a5ef5efec16d1cc513b3af89c53167ea
   "metadata": {
    "tags": []
   },
   "outputs": [],
   "source": [
<<<<<<< HEAD
    "data = data[~(data['MEDV'] >= 40.0)]"
=======
    "data = data[~(data['MEDV'] >= 50.0)]"
>>>>>>> 1098dea5a5ef5efec16d1cc513b3af89c53167ea
   ]
  },
  {
   "cell_type": "markdown",
   "metadata": {
    "tags": []
   },
   "source": [
    "### 1.6.2 Standardizace dat\n",
    "\n",
    "Každá funkce má jinou střední, standardní odchylku.\n",
    "\n",
    "Standardizační centrum a funkce měřítka.\n",
    "\n",
    "důvody:\n",
    "* zabránit tomu, aby některé funkce modelu dominovaly\n",
    "* může pomoci rychleji konvergovat modely strojového učení\n",
    "* může usnadnit interpretaci koeficientů modelu strojového učení\n",
    "\n",
    "Výpočet:\n",
    "* x_new = (x – střední hodnota) / směrodatná_odchylka\n",
    "* průměr = součet (x) / počet (x)\n",
    "* směrodatná_odchylka = sqrt( součet ( (x – průměr)^2 ) / počet (x))"
   ]
  },
  {
   "cell_type": "code",
   "execution_count": null,
   "metadata": {},
   "outputs": [],
   "source": [
    "data[\"AGE\"].mean()"
   ]
  },
  {
   "cell_type": "code",
   "execution_count": null,
   "metadata": {
    "tags": []
   },
   "outputs": [],
   "source": [
    "data[\"AGE\"].std()"
   ]
  },
  {
   "cell_type": "code",
<<<<<<< HEAD
   "execution_count": null,
=======
   "execution_count": 20,
>>>>>>> 1098dea5a5ef5efec16d1cc513b3af89c53167ea
   "metadata": {
    "tags": []
   },
   "outputs": [],
   "source": [
    "data['AGE_STD'] = (data['AGE'] - data['AGE'].mean()) / data['AGE'].std()\n",
    "data['LSTAT_STD'] = (data['LSTAT'] - data['LSTAT'].mean()) / data['LSTAT'].std()"
   ]
  },
  {
   "cell_type": "code",
   "execution_count": null,
   "metadata": {
    "tags": []
   },
   "outputs": [],
   "source": [
    "fig = plt.figure (figsize=(10, 5))\n",
    "axes = fig.subplots (1, 2)           # pole jednotlivých grafů - 2 vedle sebe\n",
    "ax1 = axes[0]\n",
    "ax2 = axes[1]\n",
    "sns.histplot(data['AGE'],ax=ax1, kde=True)\n",
    "sns.histplot(data['AGE_STD'],ax=ax2, kde=True)"
   ]
  },
  {
   "cell_type": "code",
   "execution_count": null,
   "metadata": {
    "tags": []
   },
   "outputs": [],
   "source": [
    "fig = plt.figure (figsize=(10, 5))\n",
    "axes = fig.subplots (1, 2)           # pole jednotlivých grafů\n",
    "ax1 = axes[0]\n",
    "ax2 = axes[1]\n",
    "sns.histplot(data['LSTAT'],ax=ax1, kde=True)\n",
    "sns.histplot(data['LSTAT_STD'],ax=ax2, kde=True)"
   ]
  }
 ],
 "metadata": {
  "kernelspec": {
<<<<<<< HEAD
   "display_name": "Python 3 (ipykernel)",
=======
   "display_name": "AI",
>>>>>>> 1098dea5a5ef5efec16d1cc513b3af89c53167ea
   "language": "python",
   "name": "python3"
  },
  "language_info": {
   "codemirror_mode": {
    "name": "ipython",
    "version": 3
   },
   "file_extension": ".py",
   "mimetype": "text/x-python",
   "name": "python",
   "nbconvert_exporter": "python",
   "pygments_lexer": "ipython3",
<<<<<<< HEAD
   "version": "3.9.13"
=======
   "version": "3.8.10"
>>>>>>> 1098dea5a5ef5efec16d1cc513b3af89c53167ea
  }
 },
 "nbformat": 4,
 "nbformat_minor": 4
}
