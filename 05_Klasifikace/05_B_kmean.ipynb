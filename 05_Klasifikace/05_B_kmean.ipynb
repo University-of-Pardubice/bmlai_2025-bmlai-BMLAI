{
 "cells": [
  {
   "cell_type": "markdown",
   "id": "e2ddeed1-b9a1-4c1b-a3a0-afde0fb03504",
   "metadata": {},
   "source": [
    "# 1 Algoritmus k-mean \n",
    "V tomto cvičení vytvoříme k-mean model, který bude přiřazovat na základě měření květů kosatce do tří druhů.\n",
    "\n",
    "Budeme vycházet z předpřipravených dat."
   ]
  },
  {
   "cell_type": "markdown",
   "id": "00b1451e-d2b9-47cd-8a32-64011b7f130e",
   "metadata": {},
   "source": [
    "## 1.1 Načtení a rozdělení dat"
   ]
  },
  {
   "cell_type": "code",
<<<<<<< HEAD
   "execution_count": null,
=======
   "execution_count": 1,
>>>>>>> 1098dea5a5ef5efec16d1cc513b3af89c53167ea
   "id": "a18c8642-4ee2-4401-bbd9-05e4111b6409",
   "metadata": {
    "tags": []
   },
   "outputs": [],
   "source": [
    "import numpy as np\n",
    "import matplotlib.pyplot as plt"
   ]
  },
  {
   "cell_type": "code",
<<<<<<< HEAD
   "execution_count": null,
=======
   "execution_count": 2,
>>>>>>> 1098dea5a5ef5efec16d1cc513b3af89c53167ea
   "id": "e979f8d1-352d-4685-9385-1b5a9120aab4",
   "metadata": {
    "tags": []
   },
   "outputs": [],
   "source": [
    "# načtení dat z numpy souboru\n",
    "my_arrays = np.load(\"iris_numpy.npz\")\n",
    "X = my_arrays['arr_0']\n",
    "Y = my_arrays['arr_1']\n",
    "X_norm = my_arrays['arr_2']\n",
    "X_features = my_arrays['arr_3']"
   ]
  },
  {
   "cell_type": "code",
<<<<<<< HEAD
   "execution_count": null,
=======
   "execution_count": 3,
>>>>>>> 1098dea5a5ef5efec16d1cc513b3af89c53167ea
   "id": "680ae67d-2a5f-473a-bf8d-5099855e77ae",
   "metadata": {
    "tags": []
   },
   "outputs": [],
   "source": [
    "# načtení scalar a encoder\n",
    "import joblib\n",
    "scaler=joblib.load('classification_std_scaler.bin')\n",
    "encoder=joblib.load('classification_encoder.bin')"
   ]
  },
  {
   "cell_type": "code",
<<<<<<< HEAD
   "execution_count": null,
=======
   "execution_count": 4,
>>>>>>> 1098dea5a5ef5efec16d1cc513b3af89c53167ea
   "id": "3e00c083-009e-442e-9db3-fad81493fcf3",
   "metadata": {
    "tags": []
   },
   "outputs": [],
   "source": [
    "# rozdělení dat na trénovací a testovací\n",
    "from sklearn.model_selection import train_test_split\n",
    "X_train, X_test, Y_train, Y_test = train_test_split (X_norm, Y, test_size=0.2)"
   ]
  },
  {
   "cell_type": "markdown",
   "id": "1379785e-f7bc-427a-97a8-0f2ecb1e6ad9",
   "metadata": {},
   "source": [
    "## 1.2 Určení počtu k segmentů"
   ]
  },
  {
   "cell_type": "code",
<<<<<<< HEAD
   "execution_count": null,
=======
   "execution_count": 5,
>>>>>>> 1098dea5a5ef5efec16d1cc513b3af89c53167ea
   "id": "586ea4d3-8821-4258-a812-6e196355c071",
   "metadata": {
    "tags": []
   },
   "outputs": [],
   "source": [
    "# zjištění, kolik segmentů je optimálních\n",
    "# z analýzy dat víme, že budeme určovat 3\n",
    "\n",
    "# zkusíme vytvořit model pro více k a budeme sledovat inertia_ \n",
    "# inertia_  je součet čtvercových vzdáleností vzorků od jejich nejbližšího středu shluku, vážený váhami vzorků, pokud jsou uvedeny\n",
    "\n",
    "from sklearn.cluster import KMeans\n",
    "inertia_list = []\n",
    "for num_clusters in range(1, 10):\n",
    "    kmeans_model = KMeans(n_clusters=num_clusters, init=\"k-means++\", n_init = 10)\n",
    "    kmeans_model.fit(X_norm)\n",
    "    inertia_list.append(kmeans_model.inertia_)"
   ]
  },
  {
   "cell_type": "code",
   "execution_count": null,
   "id": "d30b719a-9f28-49ae-8a4b-c6764961c5f4",
   "metadata": {
    "tags": []
   },
   "outputs": [],
   "source": [
    "# Vhodné k zjistíme vynesením interial_ do elbow (loket) grafu\n",
    "# Optimální počet k je v místě, kde se graf naposledy výrazně láme\n",
    "\n",
    "plt.figure(figsize=(6,4))\n",
    "plt.plot(range(1,10),inertia_list)\n",
    "plt.scatter(range(1,10),inertia_list)\n",
    "plt.scatter(3, inertia_list[3], marker=\"X\", s=300, c=\"r\")\n",
    "plt.xlabel(\"Number of Clusters\")\n",
    "plt.ylabel(\"Inertia Value\")\n",
    "plt.title(\"Different Inertia Values for Different Number of Clusters\")"
   ]
  },
  {
   "cell_type": "markdown",
   "id": "7b12dd0a-4525-4263-b90f-4f5be592b0e7",
   "metadata": {},
   "source": [
    "## 1.3 Trénování K-mean "
   ]
  },
  {
   "cell_type": "code",
   "execution_count": null,
   "id": "f21b3a35-ed56-4bf2-85a6-edda31bbf9af",
   "metadata": {
    "tags": []
   },
   "outputs": [],
   "source": [
    "# Vytvoření a natrénování k-mean modelu\n",
    "kmean_model = KMeans(n_clusters=3, random_state= 2, n_init=10)\n",
    "kmean_model.fit(X_train)"
   ]
  },
  {
   "cell_type": "code",
   "execution_count": null,
   "id": "8a135c77-a862-40bc-b7c8-9a99e8189056",
   "metadata": {
    "tags": []
   },
   "outputs": [],
   "source": [
    "# K-mean si id clusteru volí náhodně a ve vstupních datech nejsou správné výsledky\n",
    "# Pro zjištění přesnosti clusteru budeme muset sladit id clusteru, které vrací k-mean s id clusteru, které zvolil label_encoded\n",
    "\n",
    "# Modelu dáme vyhodnotit typické hodnoty pro iris setosa, iris vericolor a iris_virginice\n",
    "# Ukládáme si id, které vráti k-mean do pole\n",
    "\n",
    "x_new=scaler.transform ([[1.4, 0.2]])\n",
    "y_new=kmean_model.predict(x_new)\n",
    "setosa_k_id=y_new[0]\n",
    "\n",
    "x_new=scaler.transform ([[4.3, 1.3]])\n",
    "y_new=kmean_model.predict(x_new)\n",
    "versicolor_k_id=y_new[0]\n",
    "\n",
    "x_new=scaler.transform ([[5.1, 2.3]])\n",
    "y_new=kmean_model.predict(x_new)\n",
    "virginica_k_id=y_new[0]\n",
    "map_kmeans=[setosa_k_id, versicolor_k_id, virginica_k_id]\n",
    "print (map_kmeans)"
   ]
  },
  {
   "cell_type": "code",
   "execution_count": null,
   "id": "2ffe4fb5-280b-44b6-92d6-4adcbb110e5c",
   "metadata": {
    "tags": []
   },
   "outputs": [],
   "source": [
    "# zobrazení souřadnice center\n",
    "kmean_model.cluster_centers_"
   ]
  },
  {
   "cell_type": "markdown",
   "id": "0005a8c9-106c-4cad-bcfc-aca26b2dad7b",
   "metadata": {},
   "source": [
    "## 1.4 Předpověď modelu"
   ]
  },
  {
   "cell_type": "code",
<<<<<<< HEAD
   "execution_count": null,
=======
   "execution_count": 10,
>>>>>>> 1098dea5a5ef5efec16d1cc513b3af89c53167ea
   "id": "ad57ab01-b9f2-42d8-8a3f-38322f4510ea",
   "metadata": {
    "tags": []
   },
   "outputs": [],
   "source": [
    "Y_pred_train = kmean_model.predict(X_train)\n",
    "Y_pred_test = kmean_model.predict(X_test)"
   ]
  },
  {
   "cell_type": "code",
<<<<<<< HEAD
   "execution_count": null,
=======
   "execution_count": 11,
>>>>>>> 1098dea5a5ef5efec16d1cc513b3af89c53167ea
   "id": "1359c3d2-de55-4b8d-a613-cc2afa0b19b2",
   "metadata": {
    "tags": []
   },
   "outputs": [],
   "source": [
    "# přemapování id clusteru na správné odpovědi label_encode\n",
    "for i in range(Y_pred_train.shape[0]):\n",
    "    Y_pred_train[i]=map_kmeans[Y_pred_train[i]]\n",
    "    \n",
    "for i in range(Y_pred_test.shape[0]):\n",
    "    Y_pred_test[i]=map_kmeans[Y_pred_test[i]]    "
   ]
  },
  {
   "cell_type": "markdown",
   "id": "e2b82fff-d9e3-4b97-a1e7-f803e951667d",
   "metadata": {},
   "source": [
    "## 1.5 Vizualizace modelu"
   ]
  },
  {
   "cell_type": "code",
   "execution_count": null,
   "id": "f5c0d13d-6a41-4c61-b622-849aad8eae06",
   "metadata": {
    "tags": []
   },
   "outputs": [],
   "source": [
    "# Trénovací hodnoty\n",
    "plt.figure(figsize=(16,6))\n",
    "\n",
    "# predpovevi\n",
    "plt.subplot(1,2,1)\n",
    "plt.scatter(X_train[Y_pred_train == map_kmeans[0], 0], X_train[Y_pred_train == map_kmeans[0], 1], s = 50, c = 'purple', label = 'Iris-setosa')\n",
    "plt.scatter(X_train[Y_pred_train == map_kmeans[1], 0], X_train[Y_pred_train == map_kmeans[1], 1], s = 50, c = 'orange', label = 'Iris-versicolour')\n",
    "plt.scatter(X_train[Y_pred_train == map_kmeans[2], 0], X_train[Y_pred_train == map_kmeans[2], 1], s = 50, c = 'green', label = 'Iris-virginica')\n",
    "plt.title('Predicted Species'); plt.xlabel('petal_length'); plt.ylabel('petal_width')\n",
    "# centroid\n",
    "plt.scatter(kmean_model.cluster_centers_[:, 0], kmean_model.cluster_centers_[:,1], s = 100, c = 'red', label = 'Centroids')\n",
    "plt.legend()\n",
    "\n",
    "# Skutecne hodnoty\n",
    "plt.subplot(1,2,2)\n",
    "plt.scatter(X_train[Y_train == map_kmeans[0], 0], X_train[Y_train == map_kmeans[0], 1], s = 50, c = 'purple', label = 'Iris-setosa')\n",
    "plt.scatter(X_train[Y_train == map_kmeans[1], 0], X_train[Y_train == map_kmeans[1], 1], s = 50, c = 'orange', label = 'Iris-versicolour')\n",
    "plt.scatter(X_train[Y_train == map_kmeans[2], 0], X_train[Y_train == map_kmeans[2], 1], s = 50, c = 'green', label = 'Iris-virginica')\n",
    "plt.title('True Species'); plt.xlabel('petal_length'); plt.ylabel('petal_width')\n",
    "\n",
    "plt.legend()"
   ]
  },
  {
   "cell_type": "code",
   "execution_count": null,
   "id": "1bcae0c9-1b74-464c-9367-e66ed14a735e",
   "metadata": {
    "tags": []
   },
   "outputs": [],
   "source": [
    "# Testovací hodnoty\n",
    "plt.figure(figsize=(16,6))\n",
    "\n",
    "# predpovedi\n",
    "plt.subplot(1,2,1)\n",
    "plt.scatter(X_test[Y_pred_test == map_kmeans[0], 0], X_test[Y_pred_test == map_kmeans[0], 1], s = 50, c = 'purple', label = 'Iris-setosa')\n",
    "plt.scatter(X_test[Y_pred_test == map_kmeans[1], 0], X_test[Y_pred_test == map_kmeans[1], 1], s = 50, c = 'orange', label = 'Iris-versicolour')\n",
    "plt.scatter(X_test[Y_pred_test == map_kmeans[2], 0], X_test[Y_pred_test == map_kmeans[2], 1], s = 50, c = 'green', label = 'Iris-virginica')\n",
    "plt.title('Predicted Species'); plt.xlabel('petal_length'); plt.ylabel('petal_width')\n",
    "# centroid\n",
    "plt.scatter(kmean_model.cluster_centers_[:, 0], kmean_model.cluster_centers_[:,1], s = 100, c = 'red', label = 'Centroids')\n",
    "plt.legend()\n",
    "\n",
    "# Skutecne hodnoty\n",
    "plt.subplot(1,2,2)\n",
    "plt.scatter(X_test[Y_test == map_kmeans[0], 0], X_test[Y_test == map_kmeans[0], 1], s = 50, c = 'purple', label = 'Iris-setosa')\n",
    "plt.scatter(X_test[Y_test == map_kmeans[1], 0], X_test[Y_test == map_kmeans[1], 1], s = 50, c = 'orange', label = 'Iris-versicolour')\n",
    "plt.scatter(X_test[Y_test == map_kmeans[2], 0], X_test[Y_test == map_kmeans[2], 1], s = 50, c = 'green', label = 'Iris-virginica')\n",
    "plt.title('True Species'); plt.xlabel('petal_length'); plt.ylabel('petal_width')\n",
    "plt.legend()"
   ]
  },
  {
   "cell_type": "markdown",
   "id": "21441e20-a65e-4530-986a-cdbb161f5b6c",
   "metadata": {},
   "source": [
    "## 1.5 Hodnocení modelu"
   ]
  },
  {
   "cell_type": "markdown",
   "id": "cb321c76-57c4-40b7-9b03-8a901deb169c",
   "metadata": {},
   "source": [
    "- accuracy = počet správných odpovědí / počet odpovědí\n",
    "- true positive rates (recall, specifity) = TP / (TP + FN)     pacient má chorobu a byl dobře diagnostikován\n",
    "- true negative rates (Sensitivity)       = TN / (TN + FP)     pacient nemá chorobu a byl dobře diagnostikován\n",
    "- precision (positive predictive values)  = TP / (TP + TN)     míra přesnosti, kdy byl diagnostikován jako pozitivní\n",
    "- F measure (harmonický průměr precision a recall) = 2 * (precision * recall) / (precision + recall)\n",
    "- accurary = (TP + TN) / (N + P)"
   ]
  },
  {
   "cell_type": "code",
<<<<<<< HEAD
   "execution_count": null,
=======
   "execution_count": 14,
>>>>>>> 1098dea5a5ef5efec16d1cc513b3af89c53167ea
   "id": "7fa0530d-63ac-4b1b-8410-d91cc388b6d7",
   "metadata": {
    "tags": []
   },
   "outputs": [],
   "source": [
    "from sklearn.metrics import confusion_matrix, accuracy_score\n",
    "import seaborn as sns"
   ]
  },
  {
   "cell_type": "code",
<<<<<<< HEAD
   "execution_count": null,
=======
   "execution_count": 16,
>>>>>>> 1098dea5a5ef5efec16d1cc513b3af89c53167ea
   "id": "952c7a53",
   "metadata": {},
   "outputs": [],
   "source": [
    "# předpovědi pro testovací data\n",
    "Y_pred=kmean_model.predict(X_norm)"
   ]
  },
  {
   "cell_type": "code",
   "execution_count": null,
   "id": "04d172ca-63c1-4c15-a6e6-4ee449c6cb3d",
   "metadata": {
    "tags": []
   },
   "outputs": [],
   "source": [
    "\n",
    "encoder.inverse_transform(Y_pred)\n",
    "\n",
    "for i in range(Y_pred.shape[0]):\n",
    "    Y_pred[i]=map_kmeans[Y_pred[i]]"
   ]
  },
  {
   "cell_type": "code",
   "execution_count": null,
   "id": "9fbcb289-bfba-46e6-8e48-6d91ec4617a0",
   "metadata": {
    "tags": []
   },
   "outputs": [],
   "source": [
    "# Základni statistika\n",
    "import collections\n",
    "collections.Counter(Y_pred)"
   ]
  },
  {
   "cell_type": "code",
   "execution_count": null,
   "id": "8e3419e9-eb7c-421b-a82a-87ae7cef447e",
   "metadata": {
    "tags": []
   },
   "outputs": [],
   "source": [
    "# Confusion matrix\n",
    "cf_matrix=confusion_matrix(Y, Y_pred)\n",
    "sns.heatmap(cf_matrix, annot=True)"
   ]
  },
  {
   "cell_type": "code",
   "execution_count": null,
   "id": "f84a9cfa-2c9c-4d77-9f53-81ff6424df60",
   "metadata": {
    "tags": []
   },
   "outputs": [],
   "source": [
    "# Skóre\n",
    "score=accuracy_score(Y, Y_pred)\n",
    "print (score)"
   ]
  },
  {
   "cell_type": "markdown",
   "id": "89db7cd9-8636-4913-be07-d93d8412b2db",
   "metadata": {},
   "source": [
    "## 1.6 Uložení modelu"
   ]
  },
  {
   "cell_type": "code",
<<<<<<< HEAD
   "execution_count": null,
=======
   "execution_count": 21,
>>>>>>> 1098dea5a5ef5efec16d1cc513b3af89c53167ea
   "id": "bde25f18-5034-4a33-b5bc-9cb6d4fe7389",
   "metadata": {
    "tags": []
   },
   "outputs": [],
   "source": [
    "import pickle\n",
    "filename = 'kmean_model.sav'\n",
    "pickle.dump(kmean_model, open(filename, 'wb'))"
   ]
  },
  {
   "cell_type": "code",
   "execution_count": null,
   "id": "04049b92-125f-4c6c-8c4b-e681aed4befc",
   "metadata": {
    "tags": []
   },
   "outputs": [],
   "source": [
    "loaded_model = pickle.load(open(filename, 'rb'))"
   ]
  },
  {
   "cell_type": "markdown",
   "id": "6cc1166f-e840-44db-aa2f-bfc363fbe396",
   "metadata": {},
   "source": [
    "## 1.7 Ladění hyperparametrů"
   ]
  },
  {
   "cell_type": "code",
   "execution_count": null,
   "id": "ec25acfd-f495-4cd1-9f4a-a3986fd33b56",
   "metadata": {
    "tags": []
   },
   "outputs": [],
   "source": [
    "# K-mean algoritmus má různé parametry. Jedním z nich je způsob měření vzdálenosti\n",
    "# Následující postup vypíše nejvhodnější kombinaci paramterů pro daná data\n",
    "\n",
    "from sklearn.model_selection import GridSearchCV\n",
    "\n",
    "select_params={\n",
    "               'algorithm' :[\"lloyd\", \"elkan\"],\n",
    "              }\n",
    "\n",
    "grid_kmean = GridSearchCV(kmean_model, select_params, cv=5)\n",
    "grid_kmean.fit(X_norm)\n",
    "\n",
    "print('Best parameters: {}'.format(grid_kmean.best_params_))\n",
    "print('Best score on training set: {}'.format(grid_kmean.best_score_))"
   ]
  },
  {
   "cell_type": "markdown",
   "id": "67bd3c0e-643d-4041-84ca-55ea6e9f4b94",
   "metadata": {},
   "source": [
    "## 1.8 Vytvoření modelu ze předpřipravenou proměnnou\n",
    "\n",
    "Vytvoříme nový model, který budou používat pouze jednu uměle vytvořenou proměnnou podle vzorce pental_width * pental_height."
   ]
  },
  {
   "cell_type": "code",
<<<<<<< HEAD
   "execution_count": null,
=======
   "execution_count": 55,
>>>>>>> 1098dea5a5ef5efec16d1cc513b3af89c53167ea
   "id": "9628f765",
   "metadata": {},
   "outputs": [],
   "source": [
    "# rozdělení dat na trénovací a testovací\n",
    "from sklearn.model_selection import train_test_split\n",
    "X_train, X_test, Y_train, Y_test = train_test_split (X_features.reshape(-1,1), Y, test_size=0.2)"
   ]
  },
  {
   "cell_type": "code",
   "execution_count": null,
   "id": "e99be08b-840a-436a-ae09-421f90030d78",
   "metadata": {
    "tags": []
   },
   "outputs": [],
   "source": [
    "# Natrénování modelu z jediné proměnné X_features = pental_width * penal_height\n",
    "# Knihovna počítá, že X má více proměnných, proto musíme použít reshape\n",
    "kmeanf_model = KMeans(n_clusters=3, random_state= 2, n_init=10)\n",
    "kmeanf_model.fit(X_train)"
   ]
  },
  {
   "cell_type": "code",
   "execution_count": null,
   "id": "5de34114-1550-492e-a327-71c4e2b35091",
   "metadata": {
    "tags": []
   },
   "outputs": [],
   "source": [
    "# K-mean si id clusteru volí náhodně\n",
    "# Přiřazení id podle typických hodnot\n",
    "\n",
    "y_new=kmeanf_model.predict([[1.4 * 0.2]])\n",
    "setosa_k_id=y_new[0]\n",
    "\n",
    "y_new=kmeanf_model.predict([[4.3 * 1.3]])\n",
    "versicolor_k_id=y_new[0]\n",
    "\n",
    "y_new=kmeanf_model.predict([[5.1* 2.3]])\n",
    "virginica_k_id=y_new[0]\n",
    "map_kmeans=[setosa_k_id, versicolor_k_id, virginica_k_id]\n",
    "print (map_kmeans)"
   ]
  },
  {
   "cell_type": "code",
<<<<<<< HEAD
   "execution_count": null,
=======
   "execution_count": 58,
>>>>>>> 1098dea5a5ef5efec16d1cc513b3af89c53167ea
   "id": "c77f80cf",
   "metadata": {},
   "outputs": [],
   "source": [
    "Yf_pred=kmeanf_model.predict(X_test)"
   ]
  },
  {
   "cell_type": "code",
   "execution_count": null,
   "id": "3f580716",
   "metadata": {},
   "outputs": [],
   "source": [
    "Yf_pred"
   ]
  },
  {
   "cell_type": "code",
   "execution_count": null,
   "id": "edd2e6ef",
   "metadata": {},
   "outputs": [],
   "source": [
    "Y_test"
   ]
  },
  {
   "cell_type": "code",
<<<<<<< HEAD
   "execution_count": null,
=======
   "execution_count": 65,
>>>>>>> 1098dea5a5ef5efec16d1cc513b3af89c53167ea
   "id": "e536e211-24bd-4bf6-936e-0086b44e1a61",
   "metadata": {
    "tags": []
   },
   "outputs": [],
   "source": [
    "# předpovědi pro testovací data\n",
    "Yf_pred=kmeanf_model.predict(X_test)\n",
    "for i in range(Yf_pred.shape[0]):\n",
    "    Yf_pred[i]=map_kmeans[Yf_pred[i]]"
   ]
  },
  {
   "cell_type": "code",
   "execution_count": null,
   "id": "b58c4e9c-b514-491a-a7a4-8b8ecefd0d3f",
   "metadata": {
    "tags": []
   },
   "outputs": [],
   "source": [
    "cf_matrix=confusion_matrix(Y_test, Yf_pred)\n",
    "sns.heatmap(cf_matrix, annot=True)"
   ]
  },
  {
   "cell_type": "code",
   "execution_count": null,
   "id": "06b47a29-b14c-44da-9e9b-1a6ef1343ced",
   "metadata": {
    "tags": []
   },
   "outputs": [],
   "source": [
    "# Skóre\n",
    "accuracy_score(Y_test, Yf_pred)"
   ]
  },
  {
   "cell_type": "code",
   "execution_count": null,
   "id": "1a01d7df-e6d4-47ea-b689-5cc4d2c9bd82",
   "metadata": {
    "tags": []
   },
   "outputs": [],
   "source": [
    "# Vizualizace modelu\n",
    "X1=np.arange(start = X_test[:].min() - 1, stop = X_test[:].max() + 1, step = 0.01)\n",
    "Yf_pred = kmeanf_model.predict (X_test.reshape(-1,1))\n",
    "plt.scatter (X_test, Yf_pred)\n",
    "plt.grid()\n",
    "plt.title('K-NN (Test set)')\n",
    "plt.xlabel('Petal length x Petal width')\n",
    "plt.ylabel('Prediction')"
   ]
  },
  {
   "cell_type": "code",
   "execution_count": null,
   "id": "88c2963d-c632-4064-8915-acfb4f8d1955",
   "metadata": {},
   "outputs": [],
   "source": []
  }
 ],
 "metadata": {
  "kernelspec": {
<<<<<<< HEAD
   "display_name": "Python 3 (ipykernel)",
=======
   "display_name": "AI",
>>>>>>> 1098dea5a5ef5efec16d1cc513b3af89c53167ea
   "language": "python",
   "name": "python3"
  },
  "language_info": {
   "codemirror_mode": {
    "name": "ipython",
    "version": 3
   },
   "file_extension": ".py",
   "mimetype": "text/x-python",
   "name": "python",
   "nbconvert_exporter": "python",
   "pygments_lexer": "ipython3",
<<<<<<< HEAD
   "version": "3.9.13"
=======
   "version": "3.8.10"
>>>>>>> 1098dea5a5ef5efec16d1cc513b3af89c53167ea
  }
 },
 "nbformat": 4,
 "nbformat_minor": 5
}
