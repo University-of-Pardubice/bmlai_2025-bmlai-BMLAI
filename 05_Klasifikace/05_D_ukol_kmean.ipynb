{
 "cells": [
  {
   "cell_type": "markdown",
   "id": "fb388fb4-66d6-43ce-9436-b489e5a788f6",
   "metadata": {},
   "source": [
    "# Analýza zákazníků\n",
    "\n",
    "Máme k dispozici seznam zákazníků s jejich osobními informacemi a jejich chováním.\n",
    "\n",
    "Na trh chceme uvést nový luxusní a drahý výrobek. \n",
    "\n",
    "Na které zákazníky máme zaměřit personalizovaný marketing?"
   ]
  },
  {
   "cell_type": "markdown",
   "id": "b4357f0a",
   "metadata": {},
   "source": [
    "# Úkol\n",
    "- Proveďte základní analýzu dat a jejich vizualizaci\n",
    "- Proveďte úpravu dat (encoding)\n",
    "- Vyberte vhodné proměnné, podle kterých půjdou zákazníci segmentovat\n",
    "- Vytvořte k-mean model s vhodným počtem segmentů\n",
    "- Vizualizujte model\n",
    "- Který segment je cílový?"
   ]
  },
  {
   "cell_type": "markdown",
   "id": "5f4c3cc4",
   "metadata": {},
   "source": [
    "# Načtení dat"
   ]
  },
  {
   "cell_type": "code",
   "execution_count": 1,
   "id": "fc6ba30a-d158-4ffe-9d1c-b27dcdbe5536",
   "metadata": {
    "tags": []
   },
   "outputs": [],
   "source": [
    "import numpy as np \n",
    "import pandas as pd \n",
    "import matplotlib.pyplot as plt \n",
    "import seaborn as sns  "
   ]
  },
  {
   "cell_type": "code",
   "execution_count": 19,
   "id": "0d251637-9827-4b99-b99c-66bc10cd3af4",
   "metadata": {
    "tags": []
   },
   "outputs": [],
   "source": [
    "data=pd.read_csv('..\\dataset\\Mall_Customers.csv')"
   ]
  },
  {
   "cell_type": "markdown",
   "id": "85eaa546-5a72-491b-9191-a502e913f807",
   "metadata": {},
   "source": [
    "# Popis  dat\n",
    "- informace o datech\n",
    "- náhled na data\n",
    "- základní statistika\n",
    "- zobrazení distribuce dat"
   ]
  },
  {
   "cell_type": "markdown",
   "id": "f819f508",
   "metadata": {},
   "source": [
    "# Příprava dat\n",
    "- ošetření NaN hodnot\n",
    "- encodování textových sloupců"
   ]
  },
  {
   "cell_type": "markdown",
   "id": "77ef4d2d",
   "metadata": {},
   "source": [
    "# Výběr proměnných\n",
    "- zobrazení vztahů mezi proměnnými (pairplot)\n",
    "- hledáme kombinaci proměnných, které lze opticky ropzdělit do skupin\n",
    "- vytvoření X pouze s těmito sloupci"
   ]
  },
  {
   "cell_type": "markdown",
   "id": "add5529d",
   "metadata": {},
   "source": [
    "# Zjištění parametru modelu k-mean\n",
    "- vykreslení elbow grafu\n",
    "- zjištění ideálního počtu clusterů"
   ]
  },
  {
   "cell_type": "markdown",
   "id": "3a2c5a2a",
   "metadata": {},
   "source": [
    "# k-mean model pro zjištěný počet clusterů\n",
    "- natrénování modelu\n",
    "- predikce dat"
   ]
  },
  {
   "cell_type": "markdown",
   "id": "454e8aab",
   "metadata": {},
   "source": [
    "# Vizualizace modelu\n",
    "- vykreslení obarvených skupin grafů"
   ]
  },
  {
   "cell_type": "markdown",
   "id": "9c31296c",
   "metadata": {},
   "source": [
    "## Výklad modelu\n",
    "- Popište jednotlivé skupiny\n",
    "- Na jaké zákazníky se zaměřit?"
   ]
  }
 ],
 "metadata": {
  "kernelspec": {
   "display_name": "Python 3 (ipykernel)",
   "language": "python",
   "name": "python3"
  },
  "language_info": {
   "codemirror_mode": {
    "name": "ipython",
    "version": 3
   },
   "file_extension": ".py",
   "mimetype": "text/x-python",
   "name": "python",
   "nbconvert_exporter": "python",
   "pygments_lexer": "ipython3",
   "version": "3.9.18"
  }
 },
 "nbformat": 4,
 "nbformat_minor": 5
}
