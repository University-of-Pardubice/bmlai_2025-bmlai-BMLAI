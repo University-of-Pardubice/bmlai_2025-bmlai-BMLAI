{
 "cells": [
  {
   "cell_type": "markdown",
   "id": "efd730e4-0565-4b7e-8caf-cfe8b527b655",
   "metadata": {},
   "source": [
    "# Polynominální regrese\n",
    "\n",
    "## Úkol\n",
    "\n",
    "- Načtěte dataset s velikostmi a cenami\n",
    "- Prozkoumejte a zobrazte data\n",
    "- Vytvořte lineární model a zjistětě jaho R2\n",
    "- Vytvořte polynomiální modely s různým stupni, zjistěte jejich R2\n",
    "- Vyberte nejlepší model "
   ]
  },
  {
   "cell_type": "markdown",
   "id": "f037e435",
   "metadata": {},
   "source": [
    "# Načtení dat"
   ]
  },
  {
   "cell_type": "code",
   "execution_count": 1,
   "id": "52750eb3-4b2f-4673-b750-2f2e824da62b",
   "metadata": {
    "tags": []
   },
   "outputs": [],
   "source": [
    "import pandas as pd "
   ]
  },
  {
   "cell_type": "code",
   "execution_count": 2,
   "id": "17d43105-a5d6-44a6-99a8-4d6a6af286df",
   "metadata": {
    "tags": []
   },
   "outputs": [],
   "source": [
    "data = pd.read_csv (\"..\\dataset\\prices.csv\",  sep=';')"
   ]
  },
  {
   "cell_type": "markdown",
   "id": "9467aecc",
   "metadata": {},
   "source": [
    "# Lineární model\n",
    "- standardizujte data\n",
    "- vytvořte a natrénujte lineární model\n",
    "- zobrazte parametry modelu\n",
    "- vizualizujte lineární model\n",
    "- zobrazte skóre modelu"
   ]
  },
  {
   "cell_type": "markdown",
   "id": "f60da968",
   "metadata": {},
   "source": [
    "# Vytvořte polynominální regresní model\n",
    "- vytvořte model polynominální 1D model se stupni 2 - 8\n",
    "- modely zobrazte\n",
    "- zobrazte jejich parametry\n",
    "- zobrazte jejich skóre\n",
    "- Který model byste vybrali?"
   ]
  }
 ],
 "metadata": {
  "kernelspec": {
   "display_name": "Python 3 (ipykernel)",
   "language": "python",
   "name": "python3"
  },
  "language_info": {
   "codemirror_mode": {
    "name": "ipython",
    "version": 3
   },
   "file_extension": ".py",
   "mimetype": "text/x-python",
   "name": "python",
   "nbconvert_exporter": "python",
   "pygments_lexer": "ipython3",
   "version": "3.9.18"
  }
 },
 "nbformat": 4,
 "nbformat_minor": 5
}
