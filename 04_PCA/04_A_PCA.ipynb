{
 "cells": [
  {
   "cell_type": "markdown",
   "id": "06240b82-5648-4287-a7fb-0e6f7409add2",
   "metadata": {},
   "source": [
    "# 1. Analýza hlavních komponent (PCA)\n",
    "\n",
    "V tomto příkladu budeme vycházet ze stejného datového setu, jako při výpočtu lineární regrese. \n",
    "\n",
    "Připoměňme si, že do na základě korelační matice, jsme do modelu vybrali proměnné RM, LSTAT a vysvětlovanou proměnnou MEDV.\n",
    "\n",
    "Vytvořený model měl na trénovacích a testovacích datech R2 skóre přibližně 0,65.\n",
    "\n",
    "Pomocí PCA se pokusíme dosáhnout lepšího výsledku, tedy vytvořit model, který bude lépe předpovídat."
   ]
  },
  {
   "cell_type": "markdown",
   "id": "833c9d52-45c1-4ed3-9b40-4dcdc0da8592",
   "metadata": {
    "tags": []
   },
   "source": [
    "## 1.1 Načtení a analýza dat"
   ]
  },
  {
   "cell_type": "code",
   "execution_count": 1,
   "id": "88ccbc04-2eca-4042-ab9a-dacc58043e3e",
   "metadata": {
    "tags": []
   },
   "outputs": [],
   "source": [
    "import matplotlib.pyplot as plt\n",
    "import pandas as pd\n",
    "import seaborn as sns\n",
    "import numpy as np"
   ]
  },
  {
   "cell_type": "code",
   "execution_count": 2,
   "id": "f37cd943-173a-4228-9f51-adee1fba55e2",
   "metadata": {
    "tags": []
   },
   "outputs": [],
   "source": [
    "data = pd.read_csv (\"..\\dataset\\HousingData.csv\")"
   ]
  },
  {
   "cell_type": "code",
   "execution_count": 3,
   "id": "1375cb75-f3b4-42c4-a23b-c197523db087",
   "metadata": {
    "tags": []
   },
   "outputs": [],
   "source": [
    "data=data.dropna()"
   ]
  },
  {
   "cell_type": "code",
   "execution_count": null,
   "id": "b267acd2-8899-45f5-9b78-2907d3b9bdd3",
   "metadata": {
    "tags": []
   },
   "outputs": [],
   "source": [
    "data.head()"
   ]
  },
  {
   "cell_type": "code",
   "execution_count": null,
   "id": "9b342c48-fdf0-4316-aba7-1909d0ea9f98",
   "metadata": {
    "tags": []
   },
   "outputs": [],
   "source": [
    "data.describe()"
   ]
  },
  {
   "cell_type": "markdown",
   "id": "f671fe52-9ef6-46dd-8161-852e0940d00a",
   "metadata": {
    "tags": []
   },
   "source": [
    "Měřítka proměnných se od sebe velmi liší, a proto budeme muset změnit měřítko našich dat, abychom zlepšili jejich kvalitu, protože na tato data nemůžeme použít PCA nebo lineární regresi."
   ]
  },
  {
   "cell_type": "markdown",
   "id": "cd905d4b-0feb-4057-82a6-e617ad33b9ac",
   "metadata": {},
   "source": [
    "## 1.2 Lineární model všech proměnných bez úprav\n",
    "Vytvoříme kontrolní lineární model se všemi proměnnými"
   ]
  },
  {
   "cell_type": "code",
   "execution_count": 6,
   "id": "b0a8994e-9f03-4dab-bd4d-9ae57f096868",
   "metadata": {
    "tags": []
   },
   "outputs": [],
   "source": [
    "from sklearn.linear_model import LinearRegression\n",
    "from sklearn.metrics import r2_score\n",
    "from sklearn.metrics import mean_squared_error\n",
    "from sklearn.model_selection import train_test_split"
   ]
  },
  {
   "cell_type": "code",
   "execution_count": 7,
   "id": "93b84ed4-295e-4784-9a8b-dfe65eb6280a",
   "metadata": {
    "tags": []
   },
   "outputs": [],
   "source": [
    "# Rozdělení dat na tréninková a testovací\n",
    "X = np.array(data.drop('MEDV',axis=1))\n",
    "Y = np.array(data['MEDV'])\n",
    "X_train, X_test, Y_train, Y_test = train_test_split(X, Y, test_size=0.2)"
   ]
  },
  {
   "cell_type": "code",
   "execution_count": null,
   "id": "023b1e28-c430-4e28-a369-e830f6bd51a2",
   "metadata": {
    "tags": []
   },
   "outputs": [],
   "source": [
    "lr = LinearRegression()\n",
    "lr.fit(X_train, Y_train)"
   ]
  },
  {
   "cell_type": "code",
   "execution_count": null,
   "id": "f59cfa02-1963-48df-a3de-9262ca55a5d7",
   "metadata": {
    "tags": []
   },
   "outputs": [],
   "source": [
    "# Posouzení modelu pro trénovací data\n",
    "Y_pred = lr.predict(X_test)\n",
    "r2 = r2_score(Y_test, Y_pred)\n",
    "rmse = np.sqrt(mean_squared_error(Y_test, Y_pred))\n",
    "\n",
    "print(f\"R2 score: {r2}\")\n",
    "print(f\"RMSE: {rmse}\")"
   ]
  },
  {
   "cell_type": "code",
   "execution_count": null,
   "id": "0bc942c9-e61c-42b1-a595-4d819d61fa60",
   "metadata": {
    "tags": []
   },
   "outputs": [],
   "source": [
    "# Posouzení modelu pro trénovací data\n",
    "Y_pred = lr.predict(X_train)\n",
    "r2 = r2_score(Y_train, Y_pred)\n",
    "rmse = np.sqrt(mean_squared_error(Y_train, Y_pred))\n",
    "\n",
    "print(f\"R2 score: {r2}\")\n",
    "print(f\"RMSE: {rmse}\")"
   ]
  },
  {
   "cell_type": "markdown",
   "id": "c55d5983-e78b-4f57-94fa-8402bff97eb9",
   "metadata": {},
   "source": [
    "## 1.3 Korelace"
   ]
  },
  {
   "cell_type": "code",
   "execution_count": null,
   "id": "f4b29160-68be-4c5c-977e-969f97f3cd66",
   "metadata": {
    "tags": []
   },
   "outputs": [],
   "source": [
    "fig = plt.figure(figsize=(8,8))\n",
    "ax = fig.add_subplot(111)\n",
    "sns.heatmap(data.corr(),annot=True)"
   ]
  },
  {
   "cell_type": "markdown",
   "id": "d0b566c8-d7b7-4828-88d8-c5e3f4cef3c0",
   "metadata": {},
   "source": [
    "**Korelační matice** - důležitý je poslední řádek, který nám ukazuje lineární korelaci vysvětlujících proměnných a vysvětlované proměnné MEDV. Zdá se, že naše cílová proměnná je vysoce korelovaná s LSTAT a RM, což dává smysl, protože tyto dva faktory jsou velmi důležité pro tvorbu cen domů, ale zdá se, že je zde také mnoho multikolinearity."
   ]
  },
  {
   "cell_type": "markdown",
   "id": "2bccf4ab-274a-49be-97c1-a8ce4f504b8e",
   "metadata": {
    "tags": []
   },
   "source": [
    "Problém je v tom, že **mezi našimi predikčními proměnnými existuje mnoho kolinearit**, například DIS je vysoce korelován s INUDS, INOX a AGE.\n",
    "\n",
    "To není dobré, protože **multikolinearita** může náš model učinit nestabilním.\n",
    "\n",
    "Musíme se na to podívat trochu více, než začneme modelovat naše data. \n",
    "\n",
    "V případě přítomnosti multikolinearity bývá odhad vlivu jedné proměnné na závislou proměnnou Y při kontrole ostatních proměnných méně přesný, než kdyby prediktory nebyly vzájemně korelovány.\n",
    "\n",
    "Obvyklá interpretace regresního koeficientu je taková, že poskytuje odhad účinku jednotkové změny nezávislé proměnné při zachování ostatních proměnných jako konstantních.\n",
    "\n",
    "Pokud je X1 v daném souboru dat silně korelována s jinou nezávislou proměnnou, X2, pak máme soubor pozorování, pro který X1 a X2 mají určitý lineární stochastický vztah."
   ]
  },
  {
   "cell_type": "markdown",
   "id": "56660f07-e446-4011-9612-8ef2a573e130",
   "metadata": {},
   "source": [
    "## 1.4 Faktor inflace rozptylu (VIF) "
   ]
  },
  {
   "cell_type": "markdown",
   "id": "9facdee5-8256-4a7b-803a-fe55aca06d67",
   "metadata": {},
   "source": [
    "**Faktor inflace rozptylu (VIF)** detekuje multikolinearitu v regresní analýze. O multikolinearitě hovoříme tehdy, když v modelu existuje korelace mezi prediktory (tj. nezávislými proměnnými)\n",
    "\n",
    "Její přítomnost může negativně ovlivnit výsledky regrese. VIF odhaduje, jak moc je rozptyl regresního koeficientu nadsazen v důsledku multikolinearity v modelu.\n",
    "\n",
    "VIF=1/(1−R^2)\n",
    "\n",
    "Kde R^2 je koeficient determinace. Zjednodušeně řečeno, je to podíl rozptylu nezávislé proměnné, který je vysvětlen závislou proměnnou. \n",
    "\n",
    "Provedeme tedy lineární regresi s použitím každé proměnné jako cíle a ostatních jako prediktorů a vypočítáme R^2 a poté pro ně vypočítáme VIF.\n",
    "\n",
    "Pokud je VIF < 4, lze ji použít, v opačném případě musíme najít způsob, jak odstranit kolinearitu těchto funkcí."
   ]
  },
  {
   "cell_type": "code",
   "execution_count": null,
   "id": "94f9a949-e585-44d4-9acf-cb8003464e86",
   "metadata": {
    "tags": []
   },
   "outputs": [],
   "source": [
    "# Výpočet VIF pro každou proměnnou\n",
    "vifdf = []\n",
    "for i in data.columns:\n",
    "    X = np.array(data.drop(i,axis=1))\n",
    "    y = np.array(data[i])\n",
    "    lr = LinearRegression()\n",
    "    lr.fit(X,y)\n",
    "    y_pred = lr.predict(X)\n",
    "    r2 = r2_score(y,y_pred)\n",
    "    vif = 1/(1-r2)\n",
    "    vifdf.append((i,vif))\n",
    "\n",
    "vifdf = pd.DataFrame(vifdf,columns=['Features','Variance Inflation Factor'])\n",
    "vifdf.sort_values(by='Variance Inflation Factor')"
   ]
  },
  {
   "cell_type": "markdown",
   "id": "9062786a-16b9-4402-b653-a339bd6ab752",
   "metadata": {},
   "source": [
    "Vidíme, že téměř polovina promměných má  hodnotu VIF vyšší, nebo blízkou 4. TAX a RAD mají VIF téměř dvakrát vyšší, než je naše prahová hodnota.\n",
    "\n",
    "Bude tedy vhodné vyřešit multikolinearitu."
   ]
  },
  {
   "cell_type": "markdown",
   "id": "68099e97-b247-4429-a663-87aa38fdf04e",
   "metadata": {},
   "source": [
    "## 1.5 Standardizace dat"
   ]
  },
  {
   "cell_type": "code",
   "execution_count": null,
   "id": "8e1a0d3e-1139-43c4-ba5f-59b5e24b1640",
   "metadata": {
    "tags": []
   },
   "outputs": [],
   "source": [
    "# Data před standardizací\n",
    "pos = 1\n",
    "fig = plt.figure(figsize=(8, 12))\n",
    "for i in data.columns:\n",
    "    ax = fig.add_subplot(7,2, pos)\n",
    "    pos = pos + 1\n",
    "    sns.histplot(data[i],ax=ax, kde=True)"
   ]
  },
  {
   "cell_type": "code",
   "execution_count": 14,
   "id": "04e487fe-386f-45e8-b0c2-96a6747159f0",
   "metadata": {
    "tags": []
   },
   "outputs": [],
   "source": [
    "# Z-standardization\n",
    "def rescale(X):\n",
    "    mean = X.mean()\n",
    "    std = X.std()\n",
    "    scaled_X = [(i - mean)/std for i in X]\n",
    "    return pd.Series(scaled_X)"
   ]
  },
  {
   "cell_type": "code",
   "execution_count": 15,
   "id": "2adddb84-518f-4c05-9d18-36ab14f5225c",
   "metadata": {
    "tags": []
   },
   "outputs": [],
   "source": [
    "# Vytvoření nového datasetu se standardizovanými proměnnými\n",
    "data_std = pd.DataFrame(columns=data.columns)\n",
    "for i in data.columns:\n",
    "    data_std[i] = rescale(data[i])"
   ]
  },
  {
   "cell_type": "code",
   "execution_count": null,
   "id": "37e3a31d-4214-4ade-a958-f6238adac2b9",
   "metadata": {
    "tags": []
   },
   "outputs": [],
   "source": [
    "# Popis nových proměnných\n",
    "data_std.describe()"
   ]
  },
  {
   "cell_type": "code",
   "execution_count": null,
   "id": "9a276e15-a947-4072-b258-970eb733ca4a",
   "metadata": {
    "tags": []
   },
   "outputs": [],
   "source": [
    "# Zobrazení distribuce celočíselných hodnot s odhadem distribuční funkce\n",
    "# Tvar distribuce nových proměnných je stejný jako u původních proměnných\n",
    "# pouze jejich střední hodnota je nyní 0\n",
    "pos = 1\n",
    "fig = plt.figure(figsize=(8,12))\n",
    "for i in data_std.columns:\n",
    "    ax = fig.add_subplot(7,2, pos)\n",
    "    pos = pos + 1\n",
    "    sns.histplot(data_std[i],ax=ax, kde=True)"
   ]
  },
  {
   "cell_type": "code",
   "execution_count": null,
   "id": "b8d2078b-5f45-46f8-9846-3e031101679a",
   "metadata": {
    "tags": []
   },
   "outputs": [],
   "source": [
    "# korelace nových dat\n",
    "fig = plt.figure(figsize=(8,8))\n",
    "ax = fig.add_subplot(111)\n",
    "sns.heatmap(data_std.corr(),annot=True)"
   ]
  },
  {
   "cell_type": "markdown",
   "id": "5581d412-bea2-4d65-97eb-7e149fa034f1",
   "metadata": {},
   "source": [
    "## 1.6 PCA\n",
    "\n",
    "Zjednodušeně řečeno, PCA je matematický postup, který vezme několik lineárně korelovaných promměnných a vrátí několik nekorelovaných proměnných.\n",
    "\n",
    "Často se používá při redukci dimenzionality pro snížení složitosti učebních modelů nebo pro vizualizaci vícerozměrných dat do 2D nebo 3D dat, což usnadňuje jejich vizualizaci.\n",
    "\n",
    "Ale PCA není jen technika redukce dimenzionality.\n",
    "\n",
    "**PCA použijeme pro redukci dimenzionality a zároveň pro odstranění multikolinearity**."
   ]
  },
  {
   "cell_type": "markdown",
   "id": "bb1ace8e-8ab7-4a87-a443-eb0ddcbcefd5",
   "metadata": {},
   "source": [
    "Analýza hlavních komponent (PCA) je statistický postup, který využívá ortogonální transformaci k převodu souboru pozorování případně korelovaných proměnných (entit, z nichž každá nabývá různých číselných hodnot) na soubor hodnot lineárně nekorelovaných proměnných, tzv. hlavních komponent. \n",
    "\n",
    "Tato transformace je definována tak, že první hlavní komponenta má co největší rozptyl (tj. odpovídá za co největší část variability v datech) a každá následující komponenta má zase co největší rozptyl za podmínky, že je ortogonální k předchozím komponentám. \n",
    "\n",
    "Výsledné vektory (z nichž každý je lineární kombinací proměnných a obsahuje n pozorování) jsou nekorelovanou ortogonální základní množinou. \n",
    "\n",
    "PCA je citlivá na relativní škálování původních proměnných."
   ]
  },
  {
   "cell_type": "code",
   "execution_count": 19,
   "id": "01fcc1eb-21e6-4b7a-9187-c42eb4132c0d",
   "metadata": {
    "tags": []
   },
   "outputs": [],
   "source": [
    "from sklearn.decomposition import PCA"
   ]
  },
  {
   "cell_type": "code",
   "execution_count": 20,
   "id": "e86c16be-5371-43e4-ac19-66ed31ffc22c",
   "metadata": {
    "tags": []
   },
   "outputs": [],
   "source": [
    "# Počet PCA komponent bude 13 stejně jako vstupních parametrů, výstupní MEDV odstraníme\n",
    "pca = PCA(n_components=13)\n",
    "X = data_std.drop('MEDV',axis=1)\n",
    "X_pca = pca.fit_transform(X)"
   ]
  },
  {
   "cell_type": "code",
   "execution_count": 21,
   "id": "a4e29617-7e7f-4225-847c-0c2a10840346",
   "metadata": {
    "tags": []
   },
   "outputs": [],
   "source": [
    "# vytvoříme si nový dataset s proměnnými PCA a MEDV\n",
    "data_std_pca = pd.DataFrame(X_pca,columns=['PCA1','PCA2','PCA3','PCA4','PCA5','PCA6','PCA7','PCA8','PCA9','PCA10','PCA11','PCA12','PCA13'])\n",
    "data_std_pca['MEDV'] = data_std['MEDV']"
   ]
  },
  {
   "cell_type": "code",
   "execution_count": null,
   "id": "7421a4db-c2f8-4e77-8bc6-7159bf4421cc",
   "metadata": {
    "tags": []
   },
   "outputs": [],
   "source": [
    "# korelační matice\n",
    "fig = plt.figure(figsize=(12,8))\n",
    "ax = fig.add_subplot(111)\n",
    "sns.heatmap(data_std_pca.corr(),annot=True)"
   ]
  },
  {
   "cell_type": "markdown",
   "id": "170a675b-a0b1-47d9-bd3c-53a6c9ef1ce8",
   "metadata": {},
   "source": [
    "V korelační matici je vidět, že PCA komponenty nejsou na sobě závislé.\n",
    "\n",
    "MEDV je lineárně závislý na prvních 3 PCA proměnných. Pak lineární závislost velmi klesá."
   ]
  },
  {
   "cell_type": "code",
   "execution_count": null,
   "id": "1f2384bd-f3ce-4596-a33f-1368dd2bdd43",
   "metadata": {
    "tags": []
   },
   "outputs": [],
   "source": [
    "# Distribuční funkce PCA proměnných jsou odlišné od původních\n",
    "pos = 1\n",
    "fig = plt.figure(figsize=(12,16))\n",
    "for i in data_std_pca.columns:\n",
    "    ax = fig.add_subplot(7,2, pos)\n",
    "    pos = pos + 1\n",
    "    sns.histplot(data_std_pca[i],ax=ax, kde=True)"
   ]
  },
  {
   "cell_type": "markdown",
   "id": "23e44c6a-fe5f-4948-b5af-51144af50c4d",
   "metadata": {
    "tags": []
   },
   "source": [
    "## 1.7 Lineární model ze všech PCA proměnných "
   ]
  },
  {
   "cell_type": "code",
   "execution_count": 24,
   "id": "86b5f096-8c15-46bd-ae17-4a5bba981e08",
   "metadata": {
    "tags": []
   },
   "outputs": [],
   "source": [
    "# rozdělení dat na trénovací a testovací\n",
    "X = np.array(data_std_pca.drop('MEDV',axis=1))\n",
    "Y = np.array(data_std_pca['MEDV'])\n",
    "X_train, X_test, Y_train, Y_test = train_test_split(X, Y, test_size=0.2)"
   ]
  },
  {
   "cell_type": "code",
   "execution_count": null,
   "id": "b2d3faba-cd93-43b7-a7dc-a87d852b2fee",
   "metadata": {
    "tags": []
   },
   "outputs": [],
   "source": [
    "# vytvoření lineárního modelu\n",
    "lr = LinearRegression()\n",
    "lr.fit(X_train, Y_train)"
   ]
  },
  {
   "cell_type": "code",
   "execution_count": null,
   "id": "10c2886e-492b-42b4-97ca-5e9560a6e01b",
   "metadata": {
    "tags": []
   },
   "outputs": [],
   "source": [
    "# Posouzení modelu pro trénovací data\n",
    "Y_pred = lr.predict(X_train)\n",
    "r2 = r2_score(Y_train, Y_pred)\n",
    "rmse = np.sqrt(mean_squared_error(Y_train, Y_pred))\n",
    "\n",
    "print(f\"R2 score: {r2}\")\n",
    "print(f\"RMSE: {rmse}\")"
   ]
  },
  {
   "cell_type": "code",
   "execution_count": null,
   "id": "c75f74fa-1dcb-4275-8517-38b908df8fb2",
   "metadata": {
    "tags": []
   },
   "outputs": [],
   "source": [
    "# Posouzení modelu pro trénovací data\n",
    "Y_pred = lr.predict(X_test)\n",
    "r2 = r2_score(Y_test, Y_pred)\n",
    "rmse = np.sqrt(mean_squared_error(Y_test, Y_pred))\n",
    "\n",
    "print(f\"R2 score: {r2}\")\n",
    "print(f\"RMSE: {rmse}\")"
   ]
  },
  {
   "cell_type": "markdown",
   "id": "c01aa5bf-fdc6-4136-992e-a0444e9274b4",
   "metadata": {},
   "source": [
    "## 1.8 Lineární model ze 6 PCA proměnných "
   ]
  },
  {
   "cell_type": "code",
   "execution_count": null,
   "id": "e2ae09a4-84c4-469c-b63a-e7704ce12e67",
   "metadata": {
    "tags": []
   },
   "outputs": [],
   "source": [
    "# Do modelu vstupuje pouze 6 prvních PCA proměnných\n",
    "# Uděláme tedy redukci dimenzionality\n",
    "lr = LinearRegression()\n",
    "lr.fit(X_train[:,0:6], Y_train)"
   ]
  },
  {
   "cell_type": "code",
   "execution_count": null,
   "id": "b87ae656-5f17-4ee8-8b48-0c10f892f69e",
   "metadata": {
    "tags": []
   },
   "outputs": [],
   "source": [
    "# Posouzení modelu pro trénovací data\n",
    "Y_pred = lr.predict(X_train[:,0:6])\n",
    "r2 = r2_score(Y_train, Y_pred)\n",
    "rmse = np.sqrt(mean_squared_error(Y_train, Y_pred))\n",
    "\n",
    "print(f\"R2 score: {r2}\")\n",
    "print(f\"RMSE: {rmse}\")"
   ]
  },
  {
   "cell_type": "code",
   "execution_count": null,
   "id": "98ef2be9-780a-47e7-9c1e-8664c9d35b15",
   "metadata": {
    "tags": []
   },
   "outputs": [],
   "source": [
    "# Posouzení modelu pro trénovací data\n",
    "Y_pred = lr.predict(X_test[:,0:6])\n",
    "r2 = r2_score(Y_test, Y_pred)\n",
    "rmse = np.sqrt(mean_squared_error(Y_test, Y_pred))\n",
    "\n",
    "print(f\"R2 score: {r2}\")\n",
    "print(f\"RMSE: {rmse}\")"
   ]
  }
 ],
 "metadata": {
  "kernelspec": {
   "display_name": "AI",
   "language": "python",
   "name": "python3"
  },
  "language_info": {
   "codemirror_mode": {
    "name": "ipython",
    "version": 3
   },
   "file_extension": ".py",
   "mimetype": "text/x-python",
   "name": "python",
   "nbconvert_exporter": "python",
   "pygments_lexer": "ipython3",
   "version": "3.8.10"
  }
 },
 "nbformat": 4,
 "nbformat_minor": 5
}
