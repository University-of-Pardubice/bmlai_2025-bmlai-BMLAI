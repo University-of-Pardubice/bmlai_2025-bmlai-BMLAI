{
 "cells": [
  {
   "cell_type": "markdown",
   "id": "efd730e4-0565-4b7e-8caf-cfe8b527b655",
   "metadata": {},
   "source": [
    "# Analýza hlavních komponent\n",
    "\n",
    "## Úkol\n",
    "\n",
    "- V datasetu Portland Housing Prices/Sales Jul 2020 - Jul 2021 zjistěte, jestli je zde problém multikolinearity.\n",
    "- Proveďte analyzu hlavních komponent\n",
    "- Vytvořte lineární model z PCA a model porovnejte s minulým cvičením"
   ]
  },
  {
   "cell_type": "markdown",
   "id": "b4c81f14",
   "metadata": {},
   "source": [
    "# Načtení dat"
   ]
  },
  {
   "cell_type": "code",
   "execution_count": 1,
   "id": "52750eb3-4b2f-4673-b750-2f2e824da62b",
   "metadata": {
    "tags": []
   },
   "outputs": [],
   "source": [
    "import pandas as pd "
   ]
  },
  {
   "cell_type": "code",
   "execution_count": 2,
   "id": "17d43105-a5d6-44a6-99a8-4d6a6af286df",
   "metadata": {
    "tags": []
   },
   "outputs": [],
   "source": [
    "data = pd.read_csv (\"..\\dataset\\portland_filtered.csv\",  sep=';')"
   ]
  },
  {
   "cell_type": "markdown",
   "id": "e6f65264",
   "metadata": {},
   "source": [
    "# Analýza\n",
    "- zobrazte data\n",
    "- vyřešte NaN hodnoty\n",
    "- zobrazte základní statistiky dat\n",
    "- zobrazte korelační matici"
   ]
  },
  {
   "cell_type": "markdown",
   "id": "bec6c849",
   "metadata": {},
   "source": [
    "# Příprava dat\n",
    "- vyberte X promenné bathrooms', 'bedrooms', 'livingArea','age','price'\n",
    "- proměnné standardizujte"
   ]
  },
  {
   "cell_type": "markdown",
   "id": "c8132c2b",
   "metadata": {},
   "source": [
    "# Zobrazte VIF pro každou proměnnou"
   ]
  },
  {
   "cell_type": "markdown",
   "id": "e1412474",
   "metadata": {},
   "source": [
    "# PCA\n",
    "- Proveďte PCA\n",
    "- zobrazte korelační matici"
   ]
  },
  {
   "cell_type": "markdown",
   "id": "5d5d82c8",
   "metadata": {},
   "source": [
    "# Lineární model\n",
    "- Vytvořte a natrénujte Lineární model pro PCA proměnné\n",
    "- Zobrazte R2 a RMSE"
   ]
  }
 ],
 "metadata": {
  "kernelspec": {
   "display_name": "Python 3 (ipykernel)",
   "language": "python",
   "name": "python3"
  },
  "language_info": {
   "codemirror_mode": {
    "name": "ipython",
    "version": 3
   },
   "file_extension": ".py",
   "mimetype": "text/x-python",
   "name": "python",
   "nbconvert_exporter": "python",
   "pygments_lexer": "ipython3",
   "version": "3.9.18"
  }
 },
 "nbformat": 4,
 "nbformat_minor": 5
}
